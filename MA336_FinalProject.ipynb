{
  "cells": [
    {
      "cell_type": "markdown",
      "metadata": {
        "id": "view-in-github",
        "colab_type": "text"
      },
      "source": [
        "<a href=\"https://colab.research.google.com/github/Praveenyeduresi/CE880_CaseStudy/blob/main/MA336_FinalProject.ipynb\" target=\"_parent\"><img src=\"https://colab.research.google.com/assets/colab-badge.svg\" alt=\"Open In Colab\"/></a>"
      ]
    },
    {
      "cell_type": "markdown",
      "id": "3b895b66",
      "metadata": {
        "id": "3b895b66"
      },
      "source": [
        "## 1. Introduction"
      ]
    },
    {
      "cell_type": "markdown",
      "id": "7f1b543e",
      "metadata": {
        "id": "7f1b543e"
      },
      "source": [
        "This project aims to predict customer churn in the banking industry using machine learning. Customer churn refers to the phenomenon where a customer leaves a bank. Churning is one of the significant issues to consider in banking industries as it creates a major impact on a bank's revenue. Retaining a customer is more important than obtaining a new customer for the bank. According to (Nie et al., 2011) [1] , an improvement of a 5% retention rate can increase 85% of a bank’s profit.Henceforth, banks are in essential need to identify the at-risk customers and stop churning.\n",
        "\n",
        "There is a wide range of research happening in the banking field to predict the likelihood of customer churn. Several studies have proven that by utilizing the capabilities of machine learning, banks can identify at-risk bank customers who are likely to leave bank services to another bank. By knowing the at-risk customers, the bank can implement successful retention strategies to prevent churning.\n",
        "\n",
        "This project uses the data from a Kaggle competition named 'Bank Customer Churn Prediction' and it uses a wide range of datascience techniques to achieve the objective. It employed Five stage approach. In the first stage, data has been collected from Kaggle. In the second stage, data has been explored to check initial challenges and in the third stage, all those challenges have been treated using respective data preprocessing techniques. The fourth stage is Exploratory Data Analysis(EDA), in this stage using different visualization techniques, this project aims to understand the data patterns and unearth the reasons behind churning finally at the fifth stage, a wide range of machine learning models has been trained, and evaluated using train and test datasets. A full comparative study has been performed to select the best performing model. This prediction model will identify at-risk bank customers who are likely to exit the bank."
      ]
    },
    {
      "cell_type": "code",
      "execution_count": 2,
      "id": "1eba151b",
      "metadata": {
        "colab": {
          "base_uri": "https://localhost:8080/"
        },
        "id": "1eba151b",
        "outputId": "707cba19-4c11-4d0d-b899-ff20645a8a03"
      },
      "outputs": [
        {
          "output_type": "stream",
          "name": "stdout",
          "text": [
            "Collecting category_encoders\n",
            "  Downloading category_encoders-2.6.3-py2.py3-none-any.whl (81 kB)\n",
            "\u001b[2K     \u001b[90m━━━━━━━━━━━━━━━━━━━━━━━━━━━━━━━━━━━━━━━━\u001b[0m \u001b[32m81.9/81.9 kB\u001b[0m \u001b[31m1.1 MB/s\u001b[0m eta \u001b[36m0:00:00\u001b[0m\n",
            "\u001b[?25hRequirement already satisfied: numpy>=1.14.0 in /usr/local/lib/python3.10/dist-packages (from category_encoders) (1.25.2)\n",
            "Requirement already satisfied: scikit-learn>=0.20.0 in /usr/local/lib/python3.10/dist-packages (from category_encoders) (1.2.2)\n",
            "Requirement already satisfied: scipy>=1.0.0 in /usr/local/lib/python3.10/dist-packages (from category_encoders) (1.11.4)\n",
            "Requirement already satisfied: statsmodels>=0.9.0 in /usr/local/lib/python3.10/dist-packages (from category_encoders) (0.14.2)\n",
            "Requirement already satisfied: pandas>=1.0.5 in /usr/local/lib/python3.10/dist-packages (from category_encoders) (2.0.3)\n",
            "Requirement already satisfied: patsy>=0.5.1 in /usr/local/lib/python3.10/dist-packages (from category_encoders) (0.5.6)\n",
            "Requirement already satisfied: python-dateutil>=2.8.2 in /usr/local/lib/python3.10/dist-packages (from pandas>=1.0.5->category_encoders) (2.8.2)\n",
            "Requirement already satisfied: pytz>=2020.1 in /usr/local/lib/python3.10/dist-packages (from pandas>=1.0.5->category_encoders) (2023.4)\n",
            "Requirement already satisfied: tzdata>=2022.1 in /usr/local/lib/python3.10/dist-packages (from pandas>=1.0.5->category_encoders) (2024.1)\n",
            "Requirement already satisfied: six in /usr/local/lib/python3.10/dist-packages (from patsy>=0.5.1->category_encoders) (1.16.0)\n",
            "Requirement already satisfied: joblib>=1.1.1 in /usr/local/lib/python3.10/dist-packages (from scikit-learn>=0.20.0->category_encoders) (1.4.2)\n",
            "Requirement already satisfied: threadpoolctl>=2.0.0 in /usr/local/lib/python3.10/dist-packages (from scikit-learn>=0.20.0->category_encoders) (3.5.0)\n",
            "Requirement already satisfied: packaging>=21.3 in /usr/local/lib/python3.10/dist-packages (from statsmodels>=0.9.0->category_encoders) (24.1)\n",
            "Installing collected packages: category_encoders\n",
            "Successfully installed category_encoders-2.6.3\n"
          ]
        }
      ],
      "source": [
        "#import necessary packages\n",
        "import pandas as pd\n",
        "import numpy as np\n",
        "import matplotlib.pyplot as plt\n",
        "import seaborn as sns\n",
        "\n",
        "import warnings\n",
        "warnings.filterwarnings('ignore')\n",
        "\n",
        "from sklearn.utils import resample\n",
        "from sklearn.model_selection import train_test_split\n",
        "!pip install category_encoders\n",
        "import category_encoders as ce\n",
        "from sklearn.metrics import accuracy_score, classification_report, confusion_matrix\n",
        "from sklearn.preprocessing import LabelEncoder\n",
        "\n",
        "from sklearn.linear_model import LogisticRegression\n",
        "from sklearn.tree import DecisionTreeClassifier\n",
        "from sklearn.ensemble import RandomForestClassifier\n",
        "from sklearn.svm import SVC\n",
        "from sklearn.neighbors import KNeighborsClassifier\n",
        "#!pip install xgboost\n",
        "import xgboost as xgb\n"
      ]
    },
    {
      "cell_type": "code",
      "source": [
        "from google.colab import drive\n",
        "drive.mount('/content/drive')"
      ],
      "metadata": {
        "colab": {
          "base_uri": "https://localhost:8080/"
        },
        "id": "vV6FTyOyJ0aF",
        "outputId": "747006e0-339e-4dde-889e-5c257c58c1a2"
      },
      "id": "vV6FTyOyJ0aF",
      "execution_count": 3,
      "outputs": [
        {
          "output_type": "stream",
          "name": "stdout",
          "text": [
            "Mounted at /content/drive\n"
          ]
        }
      ]
    },
    {
      "cell_type": "code",
      "source": [
        "import os\n",
        "os.chdir('/content/drive/My Drive')"
      ],
      "metadata": {
        "id": "FpI1YBp6J-20"
      },
      "id": "FpI1YBp6J-20",
      "execution_count": 4,
      "outputs": []
    },
    {
      "cell_type": "markdown",
      "id": "d72e87cc",
      "metadata": {
        "id": "d72e87cc"
      },
      "source": [
        "##### 1.1 Data Loading"
      ]
    },
    {
      "cell_type": "code",
      "execution_count": 6,
      "id": "87ca1341",
      "metadata": {
        "colab": {
          "base_uri": "https://localhost:8080/",
          "height": 296
        },
        "id": "87ca1341",
        "outputId": "330b5fc4-7338-4cd9-997a-bb30e6e888f1"
      },
      "outputs": [
        {
          "output_type": "stream",
          "name": "stdout",
          "text": [
            "Data shape is : (10002, 14)\n",
            "Data Features are:  Index(['RowNumber', 'CustomerId', 'Surname', 'CreditScore', 'Geography',\n",
            "       'Gender', 'Age', 'Tenure', 'Balance', 'NumOfProducts', 'HasCrCard',\n",
            "       'IsActiveMember', 'EstimatedSalary', 'Exited'],\n",
            "      dtype='object')\n"
          ]
        },
        {
          "output_type": "execute_result",
          "data": {
            "text/plain": [
              "   RowNumber  CustomerId   Surname  CreditScore Geography  Gender   Age  \\\n",
              "0          1    15634602  Hargrave          619    France  Female  42.0   \n",
              "1          2    15647311      Hill          608     Spain  Female  41.0   \n",
              "2          3    15619304      Onio          502    France  Female  42.0   \n",
              "3          4    15701354      Boni          699    France  Female  39.0   \n",
              "4          5    15737888  Mitchell          850     Spain  Female  43.0   \n",
              "\n",
              "   Tenure    Balance  NumOfProducts  HasCrCard  IsActiveMember  \\\n",
              "0       2       0.00              1        1.0             1.0   \n",
              "1       1   83807.86              1        0.0             1.0   \n",
              "2       8  159660.80              3        1.0             0.0   \n",
              "3       1       0.00              2        0.0             0.0   \n",
              "4       2  125510.82              1        NaN             1.0   \n",
              "\n",
              "   EstimatedSalary  Exited  \n",
              "0        101348.88       1  \n",
              "1        112542.58       0  \n",
              "2        113931.57       1  \n",
              "3         93826.63       0  \n",
              "4         79084.10       0  "
            ],
            "text/html": [
              "\n",
              "  <div id=\"df-d30ed38b-cdc3-47f3-9708-7e46bf8208ed\" class=\"colab-df-container\">\n",
              "    <div>\n",
              "<style scoped>\n",
              "    .dataframe tbody tr th:only-of-type {\n",
              "        vertical-align: middle;\n",
              "    }\n",
              "\n",
              "    .dataframe tbody tr th {\n",
              "        vertical-align: top;\n",
              "    }\n",
              "\n",
              "    .dataframe thead th {\n",
              "        text-align: right;\n",
              "    }\n",
              "</style>\n",
              "<table border=\"1\" class=\"dataframe\">\n",
              "  <thead>\n",
              "    <tr style=\"text-align: right;\">\n",
              "      <th></th>\n",
              "      <th>RowNumber</th>\n",
              "      <th>CustomerId</th>\n",
              "      <th>Surname</th>\n",
              "      <th>CreditScore</th>\n",
              "      <th>Geography</th>\n",
              "      <th>Gender</th>\n",
              "      <th>Age</th>\n",
              "      <th>Tenure</th>\n",
              "      <th>Balance</th>\n",
              "      <th>NumOfProducts</th>\n",
              "      <th>HasCrCard</th>\n",
              "      <th>IsActiveMember</th>\n",
              "      <th>EstimatedSalary</th>\n",
              "      <th>Exited</th>\n",
              "    </tr>\n",
              "  </thead>\n",
              "  <tbody>\n",
              "    <tr>\n",
              "      <th>0</th>\n",
              "      <td>1</td>\n",
              "      <td>15634602</td>\n",
              "      <td>Hargrave</td>\n",
              "      <td>619</td>\n",
              "      <td>France</td>\n",
              "      <td>Female</td>\n",
              "      <td>42.0</td>\n",
              "      <td>2</td>\n",
              "      <td>0.00</td>\n",
              "      <td>1</td>\n",
              "      <td>1.0</td>\n",
              "      <td>1.0</td>\n",
              "      <td>101348.88</td>\n",
              "      <td>1</td>\n",
              "    </tr>\n",
              "    <tr>\n",
              "      <th>1</th>\n",
              "      <td>2</td>\n",
              "      <td>15647311</td>\n",
              "      <td>Hill</td>\n",
              "      <td>608</td>\n",
              "      <td>Spain</td>\n",
              "      <td>Female</td>\n",
              "      <td>41.0</td>\n",
              "      <td>1</td>\n",
              "      <td>83807.86</td>\n",
              "      <td>1</td>\n",
              "      <td>0.0</td>\n",
              "      <td>1.0</td>\n",
              "      <td>112542.58</td>\n",
              "      <td>0</td>\n",
              "    </tr>\n",
              "    <tr>\n",
              "      <th>2</th>\n",
              "      <td>3</td>\n",
              "      <td>15619304</td>\n",
              "      <td>Onio</td>\n",
              "      <td>502</td>\n",
              "      <td>France</td>\n",
              "      <td>Female</td>\n",
              "      <td>42.0</td>\n",
              "      <td>8</td>\n",
              "      <td>159660.80</td>\n",
              "      <td>3</td>\n",
              "      <td>1.0</td>\n",
              "      <td>0.0</td>\n",
              "      <td>113931.57</td>\n",
              "      <td>1</td>\n",
              "    </tr>\n",
              "    <tr>\n",
              "      <th>3</th>\n",
              "      <td>4</td>\n",
              "      <td>15701354</td>\n",
              "      <td>Boni</td>\n",
              "      <td>699</td>\n",
              "      <td>France</td>\n",
              "      <td>Female</td>\n",
              "      <td>39.0</td>\n",
              "      <td>1</td>\n",
              "      <td>0.00</td>\n",
              "      <td>2</td>\n",
              "      <td>0.0</td>\n",
              "      <td>0.0</td>\n",
              "      <td>93826.63</td>\n",
              "      <td>0</td>\n",
              "    </tr>\n",
              "    <tr>\n",
              "      <th>4</th>\n",
              "      <td>5</td>\n",
              "      <td>15737888</td>\n",
              "      <td>Mitchell</td>\n",
              "      <td>850</td>\n",
              "      <td>Spain</td>\n",
              "      <td>Female</td>\n",
              "      <td>43.0</td>\n",
              "      <td>2</td>\n",
              "      <td>125510.82</td>\n",
              "      <td>1</td>\n",
              "      <td>NaN</td>\n",
              "      <td>1.0</td>\n",
              "      <td>79084.10</td>\n",
              "      <td>0</td>\n",
              "    </tr>\n",
              "  </tbody>\n",
              "</table>\n",
              "</div>\n",
              "    <div class=\"colab-df-buttons\">\n",
              "\n",
              "  <div class=\"colab-df-container\">\n",
              "    <button class=\"colab-df-convert\" onclick=\"convertToInteractive('df-d30ed38b-cdc3-47f3-9708-7e46bf8208ed')\"\n",
              "            title=\"Convert this dataframe to an interactive table.\"\n",
              "            style=\"display:none;\">\n",
              "\n",
              "  <svg xmlns=\"http://www.w3.org/2000/svg\" height=\"24px\" viewBox=\"0 -960 960 960\">\n",
              "    <path d=\"M120-120v-720h720v720H120Zm60-500h600v-160H180v160Zm220 220h160v-160H400v160Zm0 220h160v-160H400v160ZM180-400h160v-160H180v160Zm440 0h160v-160H620v160ZM180-180h160v-160H180v160Zm440 0h160v-160H620v160Z\"/>\n",
              "  </svg>\n",
              "    </button>\n",
              "\n",
              "  <style>\n",
              "    .colab-df-container {\n",
              "      display:flex;\n",
              "      gap: 12px;\n",
              "    }\n",
              "\n",
              "    .colab-df-convert {\n",
              "      background-color: #E8F0FE;\n",
              "      border: none;\n",
              "      border-radius: 50%;\n",
              "      cursor: pointer;\n",
              "      display: none;\n",
              "      fill: #1967D2;\n",
              "      height: 32px;\n",
              "      padding: 0 0 0 0;\n",
              "      width: 32px;\n",
              "    }\n",
              "\n",
              "    .colab-df-convert:hover {\n",
              "      background-color: #E2EBFA;\n",
              "      box-shadow: 0px 1px 2px rgba(60, 64, 67, 0.3), 0px 1px 3px 1px rgba(60, 64, 67, 0.15);\n",
              "      fill: #174EA6;\n",
              "    }\n",
              "\n",
              "    .colab-df-buttons div {\n",
              "      margin-bottom: 4px;\n",
              "    }\n",
              "\n",
              "    [theme=dark] .colab-df-convert {\n",
              "      background-color: #3B4455;\n",
              "      fill: #D2E3FC;\n",
              "    }\n",
              "\n",
              "    [theme=dark] .colab-df-convert:hover {\n",
              "      background-color: #434B5C;\n",
              "      box-shadow: 0px 1px 3px 1px rgba(0, 0, 0, 0.15);\n",
              "      filter: drop-shadow(0px 1px 2px rgba(0, 0, 0, 0.3));\n",
              "      fill: #FFFFFF;\n",
              "    }\n",
              "  </style>\n",
              "\n",
              "    <script>\n",
              "      const buttonEl =\n",
              "        document.querySelector('#df-d30ed38b-cdc3-47f3-9708-7e46bf8208ed button.colab-df-convert');\n",
              "      buttonEl.style.display =\n",
              "        google.colab.kernel.accessAllowed ? 'block' : 'none';\n",
              "\n",
              "      async function convertToInteractive(key) {\n",
              "        const element = document.querySelector('#df-d30ed38b-cdc3-47f3-9708-7e46bf8208ed');\n",
              "        const dataTable =\n",
              "          await google.colab.kernel.invokeFunction('convertToInteractive',\n",
              "                                                    [key], {});\n",
              "        if (!dataTable) return;\n",
              "\n",
              "        const docLinkHtml = 'Like what you see? Visit the ' +\n",
              "          '<a target=\"_blank\" href=https://colab.research.google.com/notebooks/data_table.ipynb>data table notebook</a>'\n",
              "          + ' to learn more about interactive tables.';\n",
              "        element.innerHTML = '';\n",
              "        dataTable['output_type'] = 'display_data';\n",
              "        await google.colab.output.renderOutput(dataTable, element);\n",
              "        const docLink = document.createElement('div');\n",
              "        docLink.innerHTML = docLinkHtml;\n",
              "        element.appendChild(docLink);\n",
              "      }\n",
              "    </script>\n",
              "  </div>\n",
              "\n",
              "\n",
              "<div id=\"df-4a01f993-94a1-4608-b54f-809987c88cd0\">\n",
              "  <button class=\"colab-df-quickchart\" onclick=\"quickchart('df-4a01f993-94a1-4608-b54f-809987c88cd0')\"\n",
              "            title=\"Suggest charts\"\n",
              "            style=\"display:none;\">\n",
              "\n",
              "<svg xmlns=\"http://www.w3.org/2000/svg\" height=\"24px\"viewBox=\"0 0 24 24\"\n",
              "     width=\"24px\">\n",
              "    <g>\n",
              "        <path d=\"M19 3H5c-1.1 0-2 .9-2 2v14c0 1.1.9 2 2 2h14c1.1 0 2-.9 2-2V5c0-1.1-.9-2-2-2zM9 17H7v-7h2v7zm4 0h-2V7h2v10zm4 0h-2v-4h2v4z\"/>\n",
              "    </g>\n",
              "</svg>\n",
              "  </button>\n",
              "\n",
              "<style>\n",
              "  .colab-df-quickchart {\n",
              "      --bg-color: #E8F0FE;\n",
              "      --fill-color: #1967D2;\n",
              "      --hover-bg-color: #E2EBFA;\n",
              "      --hover-fill-color: #174EA6;\n",
              "      --disabled-fill-color: #AAA;\n",
              "      --disabled-bg-color: #DDD;\n",
              "  }\n",
              "\n",
              "  [theme=dark] .colab-df-quickchart {\n",
              "      --bg-color: #3B4455;\n",
              "      --fill-color: #D2E3FC;\n",
              "      --hover-bg-color: #434B5C;\n",
              "      --hover-fill-color: #FFFFFF;\n",
              "      --disabled-bg-color: #3B4455;\n",
              "      --disabled-fill-color: #666;\n",
              "  }\n",
              "\n",
              "  .colab-df-quickchart {\n",
              "    background-color: var(--bg-color);\n",
              "    border: none;\n",
              "    border-radius: 50%;\n",
              "    cursor: pointer;\n",
              "    display: none;\n",
              "    fill: var(--fill-color);\n",
              "    height: 32px;\n",
              "    padding: 0;\n",
              "    width: 32px;\n",
              "  }\n",
              "\n",
              "  .colab-df-quickchart:hover {\n",
              "    background-color: var(--hover-bg-color);\n",
              "    box-shadow: 0 1px 2px rgba(60, 64, 67, 0.3), 0 1px 3px 1px rgba(60, 64, 67, 0.15);\n",
              "    fill: var(--button-hover-fill-color);\n",
              "  }\n",
              "\n",
              "  .colab-df-quickchart-complete:disabled,\n",
              "  .colab-df-quickchart-complete:disabled:hover {\n",
              "    background-color: var(--disabled-bg-color);\n",
              "    fill: var(--disabled-fill-color);\n",
              "    box-shadow: none;\n",
              "  }\n",
              "\n",
              "  .colab-df-spinner {\n",
              "    border: 2px solid var(--fill-color);\n",
              "    border-color: transparent;\n",
              "    border-bottom-color: var(--fill-color);\n",
              "    animation:\n",
              "      spin 1s steps(1) infinite;\n",
              "  }\n",
              "\n",
              "  @keyframes spin {\n",
              "    0% {\n",
              "      border-color: transparent;\n",
              "      border-bottom-color: var(--fill-color);\n",
              "      border-left-color: var(--fill-color);\n",
              "    }\n",
              "    20% {\n",
              "      border-color: transparent;\n",
              "      border-left-color: var(--fill-color);\n",
              "      border-top-color: var(--fill-color);\n",
              "    }\n",
              "    30% {\n",
              "      border-color: transparent;\n",
              "      border-left-color: var(--fill-color);\n",
              "      border-top-color: var(--fill-color);\n",
              "      border-right-color: var(--fill-color);\n",
              "    }\n",
              "    40% {\n",
              "      border-color: transparent;\n",
              "      border-right-color: var(--fill-color);\n",
              "      border-top-color: var(--fill-color);\n",
              "    }\n",
              "    60% {\n",
              "      border-color: transparent;\n",
              "      border-right-color: var(--fill-color);\n",
              "    }\n",
              "    80% {\n",
              "      border-color: transparent;\n",
              "      border-right-color: var(--fill-color);\n",
              "      border-bottom-color: var(--fill-color);\n",
              "    }\n",
              "    90% {\n",
              "      border-color: transparent;\n",
              "      border-bottom-color: var(--fill-color);\n",
              "    }\n",
              "  }\n",
              "</style>\n",
              "\n",
              "  <script>\n",
              "    async function quickchart(key) {\n",
              "      const quickchartButtonEl =\n",
              "        document.querySelector('#' + key + ' button');\n",
              "      quickchartButtonEl.disabled = true;  // To prevent multiple clicks.\n",
              "      quickchartButtonEl.classList.add('colab-df-spinner');\n",
              "      try {\n",
              "        const charts = await google.colab.kernel.invokeFunction(\n",
              "            'suggestCharts', [key], {});\n",
              "      } catch (error) {\n",
              "        console.error('Error during call to suggestCharts:', error);\n",
              "      }\n",
              "      quickchartButtonEl.classList.remove('colab-df-spinner');\n",
              "      quickchartButtonEl.classList.add('colab-df-quickchart-complete');\n",
              "    }\n",
              "    (() => {\n",
              "      let quickchartButtonEl =\n",
              "        document.querySelector('#df-4a01f993-94a1-4608-b54f-809987c88cd0 button');\n",
              "      quickchartButtonEl.style.display =\n",
              "        google.colab.kernel.accessAllowed ? 'block' : 'none';\n",
              "    })();\n",
              "  </script>\n",
              "</div>\n",
              "\n",
              "    </div>\n",
              "  </div>\n"
            ],
            "application/vnd.google.colaboratory.intrinsic+json": {
              "type": "dataframe",
              "variable_name": "df",
              "summary": "{\n  \"name\": \"df\",\n  \"rows\": 10002,\n  \"fields\": [\n    {\n      \"column\": \"RowNumber\",\n      \"properties\": {\n        \"dtype\": \"number\",\n        \"std\": 2887,\n        \"min\": 1,\n        \"max\": 10000,\n        \"num_unique_values\": 10000,\n        \"samples\": [\n          6253,\n          4685,\n          1732\n        ],\n        \"semantic_type\": \"\",\n        \"description\": \"\"\n      }\n    },\n    {\n      \"column\": \"CustomerId\",\n      \"properties\": {\n        \"dtype\": \"number\",\n        \"std\": 71931,\n        \"min\": 15565701,\n        \"max\": 15815690,\n        \"num_unique_values\": 10000,\n        \"samples\": [\n          15687492,\n          15736963,\n          15721730\n        ],\n        \"semantic_type\": \"\",\n        \"description\": \"\"\n      }\n    },\n    {\n      \"column\": \"Surname\",\n      \"properties\": {\n        \"dtype\": \"category\",\n        \"num_unique_values\": 2932,\n        \"samples\": [\n          \"McGuirk\",\n          \"Torkelson\",\n          \"Rapuluchukwu\"\n        ],\n        \"semantic_type\": \"\",\n        \"description\": \"\"\n      }\n    },\n    {\n      \"column\": \"CreditScore\",\n      \"properties\": {\n        \"dtype\": \"number\",\n        \"std\": 96,\n        \"min\": 350,\n        \"max\": 850,\n        \"num_unique_values\": 460,\n        \"samples\": [\n          754,\n          533,\n          744\n        ],\n        \"semantic_type\": \"\",\n        \"description\": \"\"\n      }\n    },\n    {\n      \"column\": \"Geography\",\n      \"properties\": {\n        \"dtype\": \"category\",\n        \"num_unique_values\": 3,\n        \"samples\": [\n          \"France\",\n          \"Spain\",\n          \"Germany\"\n        ],\n        \"semantic_type\": \"\",\n        \"description\": \"\"\n      }\n    },\n    {\n      \"column\": \"Gender\",\n      \"properties\": {\n        \"dtype\": \"category\",\n        \"num_unique_values\": 2,\n        \"samples\": [\n          \"Male\",\n          \"Female\"\n        ],\n        \"semantic_type\": \"\",\n        \"description\": \"\"\n      }\n    },\n    {\n      \"column\": \"Age\",\n      \"properties\": {\n        \"dtype\": \"number\",\n        \"std\": 10.487199862204067,\n        \"min\": 18.0,\n        \"max\": 92.0,\n        \"num_unique_values\": 73,\n        \"samples\": [\n          44.0,\n          71.0\n        ],\n        \"semantic_type\": \"\",\n        \"description\": \"\"\n      }\n    },\n    {\n      \"column\": \"Tenure\",\n      \"properties\": {\n        \"dtype\": \"number\",\n        \"std\": 2,\n        \"min\": 0,\n        \"max\": 10,\n        \"num_unique_values\": 11,\n        \"samples\": [\n          6,\n          2\n        ],\n        \"semantic_type\": \"\",\n        \"description\": \"\"\n      }\n    },\n    {\n      \"column\": \"Balance\",\n      \"properties\": {\n        \"dtype\": \"number\",\n        \"std\": 62393.47414428079,\n        \"min\": 0.0,\n        \"max\": 250898.09,\n        \"num_unique_values\": 6382,\n        \"samples\": [\n          117707.18,\n          133050.97\n        ],\n        \"semantic_type\": \"\",\n        \"description\": \"\"\n      }\n    },\n    {\n      \"column\": \"NumOfProducts\",\n      \"properties\": {\n        \"dtype\": \"number\",\n        \"std\": 0,\n        \"min\": 1,\n        \"max\": 4,\n        \"num_unique_values\": 4,\n        \"samples\": [\n          3,\n          4\n        ],\n        \"semantic_type\": \"\",\n        \"description\": \"\"\n      }\n    },\n    {\n      \"column\": \"HasCrCard\",\n      \"properties\": {\n        \"dtype\": \"number\",\n        \"std\": 0.45582718453135745,\n        \"min\": 0.0,\n        \"max\": 1.0,\n        \"num_unique_values\": 2,\n        \"samples\": [\n          0.0,\n          1.0\n        ],\n        \"semantic_type\": \"\",\n        \"description\": \"\"\n      }\n    },\n    {\n      \"column\": \"IsActiveMember\",\n      \"properties\": {\n        \"dtype\": \"number\",\n        \"std\": 0.49980148043799877,\n        \"min\": 0.0,\n        \"max\": 1.0,\n        \"num_unique_values\": 2,\n        \"samples\": [\n          0.0,\n          1.0\n        ],\n        \"semantic_type\": \"\",\n        \"description\": \"\"\n      }\n    },\n    {\n      \"column\": \"EstimatedSalary\",\n      \"properties\": {\n        \"dtype\": \"number\",\n        \"std\": 57508.117802140616,\n        \"min\": 11.58,\n        \"max\": 199992.48,\n        \"num_unique_values\": 9999,\n        \"samples\": [\n          100809.99,\n          95273.73\n        ],\n        \"semantic_type\": \"\",\n        \"description\": \"\"\n      }\n    },\n    {\n      \"column\": \"Exited\",\n      \"properties\": {\n        \"dtype\": \"number\",\n        \"std\": 0,\n        \"min\": 0,\n        \"max\": 1,\n        \"num_unique_values\": 2,\n        \"samples\": [\n          0,\n          1\n        ],\n        \"semantic_type\": \"\",\n        \"description\": \"\"\n      }\n    }\n  ]\n}"
            }
          },
          "metadata": {},
          "execution_count": 6
        }
      ],
      "source": [
        "#Data Loading\n",
        "df=pd.read_csv(\"Churn_Modelling.csv\")\n",
        "print(\"Data shape is :\",df.shape)\n",
        "print(\"Data Features are: \",df.columns)\n",
        "df.head()"
      ]
    },
    {
      "cell_type": "markdown",
      "id": "daf75013",
      "metadata": {
        "id": "daf75013"
      },
      "source": [
        "Data contains 10002 customer records and 14 variables. These variables contain unique identifiers, age, gender, geography, and other financial information about each bank customer. 13 of these variables act as predictors, and one variable 'Exicted' is the response (or) target variable. This is the variable which determines whether a bank customer has been exited or not exited from the bank."
      ]
    },
    {
      "cell_type": "markdown",
      "id": "9e40760c",
      "metadata": {
        "id": "9e40760c"
      },
      "source": [
        "##### 1.2 Data Exploration"
      ]
    },
    {
      "cell_type": "markdown",
      "id": "e1f12c06",
      "metadata": {
        "id": "e1f12c06"
      },
      "source": [
        "In this stage, data has been explored to gain initial insights and investigate challenges."
      ]
    },
    {
      "cell_type": "code",
      "execution_count": null,
      "id": "7ea4d5b8",
      "metadata": {
        "id": "7ea4d5b8",
        "outputId": "d67915c9-a886-44eb-f224-0ad2b9aba103"
      },
      "outputs": [
        {
          "data": {
            "text/html": [
              "<div>\n",
              "<style scoped>\n",
              "    .dataframe tbody tr th:only-of-type {\n",
              "        vertical-align: middle;\n",
              "    }\n",
              "\n",
              "    .dataframe tbody tr th {\n",
              "        vertical-align: top;\n",
              "    }\n",
              "\n",
              "    .dataframe thead th {\n",
              "        text-align: right;\n",
              "    }\n",
              "</style>\n",
              "<table border=\"1\" class=\"dataframe\">\n",
              "  <thead>\n",
              "    <tr style=\"text-align: right;\">\n",
              "      <th></th>\n",
              "      <th>CustomerId</th>\n",
              "      <th>Surname</th>\n",
              "      <th>CreditScore</th>\n",
              "      <th>Geography</th>\n",
              "      <th>Gender</th>\n",
              "      <th>Age</th>\n",
              "      <th>Tenure</th>\n",
              "      <th>Balance</th>\n",
              "      <th>NumOfProducts</th>\n",
              "      <th>HasCrCard</th>\n",
              "      <th>IsActiveMember</th>\n",
              "      <th>EstimatedSalary</th>\n",
              "      <th>Exited</th>\n",
              "    </tr>\n",
              "  </thead>\n",
              "  <tbody>\n",
              "    <tr>\n",
              "      <th>0</th>\n",
              "      <td>15634602</td>\n",
              "      <td>Hargrave</td>\n",
              "      <td>619</td>\n",
              "      <td>France</td>\n",
              "      <td>Female</td>\n",
              "      <td>42.0</td>\n",
              "      <td>2</td>\n",
              "      <td>0.00</td>\n",
              "      <td>1</td>\n",
              "      <td>1.0</td>\n",
              "      <td>1.0</td>\n",
              "      <td>101348.88</td>\n",
              "      <td>1</td>\n",
              "    </tr>\n",
              "    <tr>\n",
              "      <th>1</th>\n",
              "      <td>15647311</td>\n",
              "      <td>Hill</td>\n",
              "      <td>608</td>\n",
              "      <td>Spain</td>\n",
              "      <td>Female</td>\n",
              "      <td>41.0</td>\n",
              "      <td>1</td>\n",
              "      <td>83807.86</td>\n",
              "      <td>1</td>\n",
              "      <td>0.0</td>\n",
              "      <td>1.0</td>\n",
              "      <td>112542.58</td>\n",
              "      <td>0</td>\n",
              "    </tr>\n",
              "    <tr>\n",
              "      <th>2</th>\n",
              "      <td>15619304</td>\n",
              "      <td>Onio</td>\n",
              "      <td>502</td>\n",
              "      <td>France</td>\n",
              "      <td>Female</td>\n",
              "      <td>42.0</td>\n",
              "      <td>8</td>\n",
              "      <td>159660.80</td>\n",
              "      <td>3</td>\n",
              "      <td>1.0</td>\n",
              "      <td>0.0</td>\n",
              "      <td>113931.57</td>\n",
              "      <td>1</td>\n",
              "    </tr>\n",
              "    <tr>\n",
              "      <th>3</th>\n",
              "      <td>15701354</td>\n",
              "      <td>Boni</td>\n",
              "      <td>699</td>\n",
              "      <td>France</td>\n",
              "      <td>Female</td>\n",
              "      <td>39.0</td>\n",
              "      <td>1</td>\n",
              "      <td>0.00</td>\n",
              "      <td>2</td>\n",
              "      <td>0.0</td>\n",
              "      <td>0.0</td>\n",
              "      <td>93826.63</td>\n",
              "      <td>0</td>\n",
              "    </tr>\n",
              "    <tr>\n",
              "      <th>4</th>\n",
              "      <td>15737888</td>\n",
              "      <td>Mitchell</td>\n",
              "      <td>850</td>\n",
              "      <td>Spain</td>\n",
              "      <td>Female</td>\n",
              "      <td>43.0</td>\n",
              "      <td>2</td>\n",
              "      <td>125510.82</td>\n",
              "      <td>1</td>\n",
              "      <td>NaN</td>\n",
              "      <td>1.0</td>\n",
              "      <td>79084.10</td>\n",
              "      <td>0</td>\n",
              "    </tr>\n",
              "  </tbody>\n",
              "</table>\n",
              "</div>"
            ],
            "text/plain": [
              "   CustomerId   Surname  CreditScore Geography  Gender   Age  Tenure  \\\n",
              "0    15634602  Hargrave          619    France  Female  42.0       2   \n",
              "1    15647311      Hill          608     Spain  Female  41.0       1   \n",
              "2    15619304      Onio          502    France  Female  42.0       8   \n",
              "3    15701354      Boni          699    France  Female  39.0       1   \n",
              "4    15737888  Mitchell          850     Spain  Female  43.0       2   \n",
              "\n",
              "     Balance  NumOfProducts  HasCrCard  IsActiveMember  EstimatedSalary  \\\n",
              "0       0.00              1        1.0             1.0        101348.88   \n",
              "1   83807.86              1        0.0             1.0        112542.58   \n",
              "2  159660.80              3        1.0             0.0        113931.57   \n",
              "3       0.00              2        0.0             0.0         93826.63   \n",
              "4  125510.82              1        NaN             1.0         79084.10   \n",
              "\n",
              "   Exited  \n",
              "0       1  \n",
              "1       0  \n",
              "2       1  \n",
              "3       0  \n",
              "4       0  "
            ]
          },
          "execution_count": 6,
          "metadata": {},
          "output_type": "execute_result"
        }
      ],
      "source": [
        "#Dropping Rownumber\n",
        "df.drop(columns=['RowNumber'], inplace=True)\n",
        "df.head(5)"
      ]
    },
    {
      "cell_type": "code",
      "execution_count": null,
      "id": "4b496aff",
      "metadata": {
        "id": "4b496aff",
        "outputId": "33646e6e-088c-4b0f-eba4-102080b6a962"
      },
      "outputs": [
        {
          "data": {
            "text/html": [
              "<div>\n",
              "<style scoped>\n",
              "    .dataframe tbody tr th:only-of-type {\n",
              "        vertical-align: middle;\n",
              "    }\n",
              "\n",
              "    .dataframe tbody tr th {\n",
              "        vertical-align: top;\n",
              "    }\n",
              "\n",
              "    .dataframe thead th {\n",
              "        text-align: right;\n",
              "    }\n",
              "</style>\n",
              "<table border=\"1\" class=\"dataframe\">\n",
              "  <thead>\n",
              "    <tr style=\"text-align: right;\">\n",
              "      <th></th>\n",
              "      <th>CustomerId</th>\n",
              "      <th>Surname</th>\n",
              "      <th>CreditScore</th>\n",
              "      <th>Geography</th>\n",
              "      <th>Gender</th>\n",
              "      <th>Age</th>\n",
              "      <th>Tenure</th>\n",
              "      <th>Balance</th>\n",
              "      <th>NumOfProducts</th>\n",
              "      <th>HasCrCard</th>\n",
              "      <th>IsActiveMember</th>\n",
              "      <th>EstimatedSalary</th>\n",
              "      <th>Exited</th>\n",
              "    </tr>\n",
              "  </thead>\n",
              "  <tbody>\n",
              "    <tr>\n",
              "      <th>9999</th>\n",
              "      <td>15682355</td>\n",
              "      <td>Sabbatini</td>\n",
              "      <td>772</td>\n",
              "      <td>Germany</td>\n",
              "      <td>Male</td>\n",
              "      <td>42.0</td>\n",
              "      <td>3</td>\n",
              "      <td>75075.31</td>\n",
              "      <td>2</td>\n",
              "      <td>1.0</td>\n",
              "      <td>0.0</td>\n",
              "      <td>92888.52</td>\n",
              "      <td>1</td>\n",
              "    </tr>\n",
              "    <tr>\n",
              "      <th>10001</th>\n",
              "      <td>15628319</td>\n",
              "      <td>Walker</td>\n",
              "      <td>792</td>\n",
              "      <td>France</td>\n",
              "      <td>Female</td>\n",
              "      <td>28.0</td>\n",
              "      <td>4</td>\n",
              "      <td>130142.79</td>\n",
              "      <td>1</td>\n",
              "      <td>1.0</td>\n",
              "      <td>0.0</td>\n",
              "      <td>38190.78</td>\n",
              "      <td>0</td>\n",
              "    </tr>\n",
              "  </tbody>\n",
              "</table>\n",
              "</div>"
            ],
            "text/plain": [
              "       CustomerId    Surname  CreditScore Geography  Gender   Age  Tenure  \\\n",
              "9999     15682355  Sabbatini          772   Germany    Male  42.0       3   \n",
              "10001    15628319     Walker          792    France  Female  28.0       4   \n",
              "\n",
              "         Balance  NumOfProducts  HasCrCard  IsActiveMember  EstimatedSalary  \\\n",
              "9999    75075.31              2        1.0             0.0         92888.52   \n",
              "10001  130142.79              1        1.0             0.0         38190.78   \n",
              "\n",
              "       Exited  \n",
              "9999        1  \n",
              "10001       0  "
            ]
          },
          "execution_count": 7,
          "metadata": {},
          "output_type": "execute_result"
        }
      ],
      "source": [
        "#checking duplicates\n",
        "df[df.duplicated('CustomerId')]"
      ]
    },
    {
      "cell_type": "code",
      "execution_count": null,
      "id": "41c9bce4",
      "metadata": {
        "id": "41c9bce4",
        "outputId": "41775a51-32e8-4080-b882-06335b12f258"
      },
      "outputs": [
        {
          "data": {
            "text/html": [
              "<div>\n",
              "<style scoped>\n",
              "    .dataframe tbody tr th:only-of-type {\n",
              "        vertical-align: middle;\n",
              "    }\n",
              "\n",
              "    .dataframe tbody tr th {\n",
              "        vertical-align: top;\n",
              "    }\n",
              "\n",
              "    .dataframe thead th {\n",
              "        text-align: right;\n",
              "    }\n",
              "</style>\n",
              "<table border=\"1\" class=\"dataframe\">\n",
              "  <thead>\n",
              "    <tr style=\"text-align: right;\">\n",
              "      <th></th>\n",
              "      <th>CustomerId</th>\n",
              "      <th>Surname</th>\n",
              "      <th>CreditScore</th>\n",
              "      <th>Geography</th>\n",
              "      <th>Gender</th>\n",
              "      <th>Age</th>\n",
              "      <th>Tenure</th>\n",
              "      <th>Balance</th>\n",
              "      <th>NumOfProducts</th>\n",
              "      <th>HasCrCard</th>\n",
              "      <th>IsActiveMember</th>\n",
              "      <th>EstimatedSalary</th>\n",
              "      <th>Exited</th>\n",
              "    </tr>\n",
              "  </thead>\n",
              "  <tbody>\n",
              "    <tr>\n",
              "      <th>9998</th>\n",
              "      <td>15682355</td>\n",
              "      <td>Sabbatini</td>\n",
              "      <td>772</td>\n",
              "      <td>Germany</td>\n",
              "      <td>Male</td>\n",
              "      <td>42.0</td>\n",
              "      <td>3</td>\n",
              "      <td>75075.31</td>\n",
              "      <td>2</td>\n",
              "      <td>1.0</td>\n",
              "      <td>0.0</td>\n",
              "      <td>92888.52</td>\n",
              "      <td>1</td>\n",
              "    </tr>\n",
              "    <tr>\n",
              "      <th>9999</th>\n",
              "      <td>15682355</td>\n",
              "      <td>Sabbatini</td>\n",
              "      <td>772</td>\n",
              "      <td>Germany</td>\n",
              "      <td>Male</td>\n",
              "      <td>42.0</td>\n",
              "      <td>3</td>\n",
              "      <td>75075.31</td>\n",
              "      <td>2</td>\n",
              "      <td>1.0</td>\n",
              "      <td>0.0</td>\n",
              "      <td>92888.52</td>\n",
              "      <td>1</td>\n",
              "    </tr>\n",
              "    <tr>\n",
              "      <th>10000</th>\n",
              "      <td>15628319</td>\n",
              "      <td>Walker</td>\n",
              "      <td>792</td>\n",
              "      <td>France</td>\n",
              "      <td>Female</td>\n",
              "      <td>28.0</td>\n",
              "      <td>4</td>\n",
              "      <td>130142.79</td>\n",
              "      <td>1</td>\n",
              "      <td>1.0</td>\n",
              "      <td>0.0</td>\n",
              "      <td>38190.78</td>\n",
              "      <td>0</td>\n",
              "    </tr>\n",
              "    <tr>\n",
              "      <th>10001</th>\n",
              "      <td>15628319</td>\n",
              "      <td>Walker</td>\n",
              "      <td>792</td>\n",
              "      <td>France</td>\n",
              "      <td>Female</td>\n",
              "      <td>28.0</td>\n",
              "      <td>4</td>\n",
              "      <td>130142.79</td>\n",
              "      <td>1</td>\n",
              "      <td>1.0</td>\n",
              "      <td>0.0</td>\n",
              "      <td>38190.78</td>\n",
              "      <td>0</td>\n",
              "    </tr>\n",
              "  </tbody>\n",
              "</table>\n",
              "</div>"
            ],
            "text/plain": [
              "       CustomerId    Surname  CreditScore Geography  Gender   Age  Tenure  \\\n",
              "9998     15682355  Sabbatini          772   Germany    Male  42.0       3   \n",
              "9999     15682355  Sabbatini          772   Germany    Male  42.0       3   \n",
              "10000    15628319     Walker          792    France  Female  28.0       4   \n",
              "10001    15628319     Walker          792    France  Female  28.0       4   \n",
              "\n",
              "         Balance  NumOfProducts  HasCrCard  IsActiveMember  EstimatedSalary  \\\n",
              "9998    75075.31              2        1.0             0.0         92888.52   \n",
              "9999    75075.31              2        1.0             0.0         92888.52   \n",
              "10000  130142.79              1        1.0             0.0         38190.78   \n",
              "10001  130142.79              1        1.0             0.0         38190.78   \n",
              "\n",
              "       Exited  \n",
              "9998        1  \n",
              "9999        1  \n",
              "10000       0  \n",
              "10001       0  "
            ]
          },
          "execution_count": 8,
          "metadata": {},
          "output_type": "execute_result"
        }
      ],
      "source": [
        "df[(df['CustomerId']==15682355) | (df['CustomerId']== 15628319)]"
      ]
    },
    {
      "cell_type": "code",
      "execution_count": null,
      "id": "2591755c",
      "metadata": {
        "id": "2591755c",
        "outputId": "c9ef7ec1-2462-4de5-c3a2-e09c6922b079"
      },
      "outputs": [
        {
          "data": {
            "text/plain": [
              "CustomerId           int64\n",
              "Surname             object\n",
              "CreditScore          int64\n",
              "Geography           object\n",
              "Gender              object\n",
              "Age                float64\n",
              "Tenure               int64\n",
              "Balance            float64\n",
              "NumOfProducts        int64\n",
              "HasCrCard          float64\n",
              "IsActiveMember     float64\n",
              "EstimatedSalary    float64\n",
              "Exited               int64\n",
              "dtype: object"
            ]
          },
          "execution_count": 9,
          "metadata": {},
          "output_type": "execute_result"
        }
      ],
      "source": [
        "#checking data types\n",
        "df.dtypes"
      ]
    },
    {
      "cell_type": "code",
      "execution_count": null,
      "id": "a68067e7",
      "metadata": {
        "id": "a68067e7",
        "outputId": "70477a19-4eaf-4852-fb79-04481828f715"
      },
      "outputs": [
        {
          "data": {
            "text/plain": [
              "array([42.  , 41.  , 39.  , 43.  , 44.  , 50.  , 29.  ,   nan, 31.  ,\n",
              "       24.  , 34.  , 25.  , 35.  , 45.  , 58.  , 45.25, 32.34, 38.  ,\n",
              "       46.  , 36.44, 36.  , 33.  , 40.  , 51.  , 61.  , 49.  , 32.  ,\n",
              "       27.  , 37.  , 19.  , 66.  , 56.  , 26.  , 21.  , 55.  , 75.  ,\n",
              "       22.  , 30.  , 28.  , 65.  , 48.  , 52.  , 57.  , 73.  , 47.  ,\n",
              "       54.  , 72.  , 20.  , 67.  , 79.  , 62.  , 53.  , 80.  , 59.  ,\n",
              "       68.  , 23.  , 60.  , 70.  , 63.  , 64.  , 18.  , 82.  , 69.  ,\n",
              "       74.  , 71.  , 76.  , 77.  , 88.  , 85.  , 84.  , 78.  , 81.  ,\n",
              "       92.  , 83.  ])"
            ]
          },
          "execution_count": 10,
          "metadata": {},
          "output_type": "execute_result"
        }
      ],
      "source": [
        "# exploring Age column\n",
        "df['Age'].unique()"
      ]
    },
    {
      "cell_type": "code",
      "execution_count": null,
      "id": "5e343fdb",
      "metadata": {
        "id": "5e343fdb",
        "outputId": "d1c76e52-904f-4823-cd07-ca20c8c94bbc"
      },
      "outputs": [
        {
          "data": {
            "text/html": [
              "<div>\n",
              "<style scoped>\n",
              "    .dataframe tbody tr th:only-of-type {\n",
              "        vertical-align: middle;\n",
              "    }\n",
              "\n",
              "    .dataframe tbody tr th {\n",
              "        vertical-align: top;\n",
              "    }\n",
              "\n",
              "    .dataframe thead th {\n",
              "        text-align: right;\n",
              "    }\n",
              "</style>\n",
              "<table border=\"1\" class=\"dataframe\">\n",
              "  <thead>\n",
              "    <tr style=\"text-align: right;\">\n",
              "      <th></th>\n",
              "      <th>CustomerId</th>\n",
              "      <th>CreditScore</th>\n",
              "      <th>Age</th>\n",
              "      <th>Tenure</th>\n",
              "      <th>Balance</th>\n",
              "      <th>NumOfProducts</th>\n",
              "      <th>HasCrCard</th>\n",
              "      <th>IsActiveMember</th>\n",
              "      <th>EstimatedSalary</th>\n",
              "      <th>Exited</th>\n",
              "    </tr>\n",
              "  </thead>\n",
              "  <tbody>\n",
              "    <tr>\n",
              "      <th>count</th>\n",
              "      <td>1.000200e+04</td>\n",
              "      <td>10002.000000</td>\n",
              "      <td>10001.000000</td>\n",
              "      <td>10002.000000</td>\n",
              "      <td>10002.000000</td>\n",
              "      <td>10002.000000</td>\n",
              "      <td>10001.000000</td>\n",
              "      <td>10001.000000</td>\n",
              "      <td>10002.000000</td>\n",
              "      <td>10002.000000</td>\n",
              "    </tr>\n",
              "    <tr>\n",
              "      <th>mean</th>\n",
              "      <td>1.569093e+07</td>\n",
              "      <td>650.555089</td>\n",
              "      <td>38.922311</td>\n",
              "      <td>5.012498</td>\n",
              "      <td>76491.112875</td>\n",
              "      <td>1.530194</td>\n",
              "      <td>0.705529</td>\n",
              "      <td>0.514949</td>\n",
              "      <td>100083.331145</td>\n",
              "      <td>0.203759</td>\n",
              "    </tr>\n",
              "    <tr>\n",
              "      <th>std</th>\n",
              "      <td>7.193177e+04</td>\n",
              "      <td>96.661615</td>\n",
              "      <td>10.487200</td>\n",
              "      <td>2.891973</td>\n",
              "      <td>62393.474144</td>\n",
              "      <td>0.581639</td>\n",
              "      <td>0.455827</td>\n",
              "      <td>0.499801</td>\n",
              "      <td>57508.117802</td>\n",
              "      <td>0.402812</td>\n",
              "    </tr>\n",
              "    <tr>\n",
              "      <th>min</th>\n",
              "      <td>1.556570e+07</td>\n",
              "      <td>350.000000</td>\n",
              "      <td>18.000000</td>\n",
              "      <td>0.000000</td>\n",
              "      <td>0.000000</td>\n",
              "      <td>1.000000</td>\n",
              "      <td>0.000000</td>\n",
              "      <td>0.000000</td>\n",
              "      <td>11.580000</td>\n",
              "      <td>0.000000</td>\n",
              "    </tr>\n",
              "    <tr>\n",
              "      <th>25%</th>\n",
              "      <td>1.562852e+07</td>\n",
              "      <td>584.000000</td>\n",
              "      <td>32.000000</td>\n",
              "      <td>3.000000</td>\n",
              "      <td>0.000000</td>\n",
              "      <td>1.000000</td>\n",
              "      <td>0.000000</td>\n",
              "      <td>0.000000</td>\n",
              "      <td>50983.750000</td>\n",
              "      <td>0.000000</td>\n",
              "    </tr>\n",
              "    <tr>\n",
              "      <th>50%</th>\n",
              "      <td>1.569073e+07</td>\n",
              "      <td>652.000000</td>\n",
              "      <td>37.000000</td>\n",
              "      <td>5.000000</td>\n",
              "      <td>97198.540000</td>\n",
              "      <td>1.000000</td>\n",
              "      <td>1.000000</td>\n",
              "      <td>1.000000</td>\n",
              "      <td>100185.240000</td>\n",
              "      <td>0.000000</td>\n",
              "    </tr>\n",
              "    <tr>\n",
              "      <th>75%</th>\n",
              "      <td>1.575323e+07</td>\n",
              "      <td>718.000000</td>\n",
              "      <td>44.000000</td>\n",
              "      <td>7.000000</td>\n",
              "      <td>127647.840000</td>\n",
              "      <td>2.000000</td>\n",
              "      <td>1.000000</td>\n",
              "      <td>1.000000</td>\n",
              "      <td>149383.652500</td>\n",
              "      <td>0.000000</td>\n",
              "    </tr>\n",
              "    <tr>\n",
              "      <th>max</th>\n",
              "      <td>1.581569e+07</td>\n",
              "      <td>850.000000</td>\n",
              "      <td>92.000000</td>\n",
              "      <td>10.000000</td>\n",
              "      <td>250898.090000</td>\n",
              "      <td>4.000000</td>\n",
              "      <td>1.000000</td>\n",
              "      <td>1.000000</td>\n",
              "      <td>199992.480000</td>\n",
              "      <td>1.000000</td>\n",
              "    </tr>\n",
              "  </tbody>\n",
              "</table>\n",
              "</div>"
            ],
            "text/plain": [
              "         CustomerId   CreditScore           Age        Tenure        Balance  \\\n",
              "count  1.000200e+04  10002.000000  10001.000000  10002.000000   10002.000000   \n",
              "mean   1.569093e+07    650.555089     38.922311      5.012498   76491.112875   \n",
              "std    7.193177e+04     96.661615     10.487200      2.891973   62393.474144   \n",
              "min    1.556570e+07    350.000000     18.000000      0.000000       0.000000   \n",
              "25%    1.562852e+07    584.000000     32.000000      3.000000       0.000000   \n",
              "50%    1.569073e+07    652.000000     37.000000      5.000000   97198.540000   \n",
              "75%    1.575323e+07    718.000000     44.000000      7.000000  127647.840000   \n",
              "max    1.581569e+07    850.000000     92.000000     10.000000  250898.090000   \n",
              "\n",
              "       NumOfProducts     HasCrCard  IsActiveMember  EstimatedSalary  \\\n",
              "count   10002.000000  10001.000000    10001.000000     10002.000000   \n",
              "mean        1.530194      0.705529        0.514949    100083.331145   \n",
              "std         0.581639      0.455827        0.499801     57508.117802   \n",
              "min         1.000000      0.000000        0.000000        11.580000   \n",
              "25%         1.000000      0.000000        0.000000     50983.750000   \n",
              "50%         1.000000      1.000000        1.000000    100185.240000   \n",
              "75%         2.000000      1.000000        1.000000    149383.652500   \n",
              "max         4.000000      1.000000        1.000000    199992.480000   \n",
              "\n",
              "             Exited  \n",
              "count  10002.000000  \n",
              "mean       0.203759  \n",
              "std        0.402812  \n",
              "min        0.000000  \n",
              "25%        0.000000  \n",
              "50%        0.000000  \n",
              "75%        0.000000  \n",
              "max        1.000000  "
            ]
          },
          "execution_count": 11,
          "metadata": {},
          "output_type": "execute_result"
        }
      ],
      "source": [
        "#Data description\n",
        "df.describe()"
      ]
    },
    {
      "cell_type": "code",
      "execution_count": null,
      "id": "b1aca37d",
      "metadata": {
        "id": "b1aca37d",
        "outputId": "cf4b27b6-0f00-470b-96ef-1e1f75e73bf6"
      },
      "outputs": [
        {
          "data": {
            "text/plain": [
              "CustomerId         0\n",
              "Surname            0\n",
              "CreditScore        0\n",
              "Geography          1\n",
              "Gender             0\n",
              "Age                1\n",
              "Tenure             0\n",
              "Balance            0\n",
              "NumOfProducts      0\n",
              "HasCrCard          1\n",
              "IsActiveMember     1\n",
              "EstimatedSalary    0\n",
              "Exited             0\n",
              "dtype: int64"
            ]
          },
          "execution_count": 12,
          "metadata": {},
          "output_type": "execute_result"
        }
      ],
      "source": [
        "#checking missing values\n",
        "df.isnull().sum()"
      ]
    },
    {
      "cell_type": "markdown",
      "id": "6f6d5257",
      "metadata": {
        "id": "6f6d5257"
      },
      "source": [
        "Upon exploring the data, this project found four challenges. Firstly, the dataset has the challenge of Duplicate rows. Customer IDs 15682355 and 15628319 are duplicated. Next, the Age variable contains float values. Third, the dataset has a few challenges of Missing values, the variables 'Geography', 'Age', 'Has credit card', and 'Is active member' features has a record missing from each of them. and finally, data has Categorical features. As not all machine learning algorithms work on categorical values, there is a necessity of converting them to numerical."
      ]
    },
    {
      "cell_type": "markdown",
      "id": "280d19aa",
      "metadata": {
        "id": "280d19aa"
      },
      "source": [
        "##### 1.3 Data Cleansing"
      ]
    },
    {
      "cell_type": "markdown",
      "id": "6f0b94c4",
      "metadata": {
        "id": "6f0b94c4"
      },
      "source": [
        "This section of data preprocessing (or) cleansing aimed to resolve the challenges in the data identified at data exploration stage."
      ]
    },
    {
      "cell_type": "code",
      "execution_count": null,
      "id": "83c9ee8a",
      "metadata": {
        "id": "83c9ee8a",
        "outputId": "5cb72e23-f9e7-43af-9238-51254d5ec17d"
      },
      "outputs": [
        {
          "name": "stdout",
          "output_type": "stream",
          "text": [
            "(10002, 13)\n",
            "Empty DataFrame\n",
            "Columns: [CustomerId, Surname, CreditScore, Geography, Gender, Age, Tenure, Balance, NumOfProducts, HasCrCard, IsActiveMember, EstimatedSalary, Exited]\n",
            "Index: []\n",
            "(10000, 13)\n"
          ]
        }
      ],
      "source": [
        "# delete duplicates rows\n",
        "print(df.shape)\n",
        "df = df.drop_duplicates(subset='CustomerId', keep='first')\n",
        "\n",
        "print(df[df.duplicated('CustomerId')])\n",
        "print(df.shape)"
      ]
    },
    {
      "cell_type": "code",
      "execution_count": null,
      "id": "9849899a",
      "metadata": {
        "id": "9849899a"
      },
      "outputs": [],
      "source": [
        "# Replace missing values with mode and mean imputation\n",
        "mode=df['Geography'].mode()[0]\n",
        "df['Geography'].fillna(mode, inplace=True)\n",
        "\n",
        "mode=df['HasCrCard'].mode()[0]\n",
        "df['HasCrCard'].fillna(mode, inplace=True)\n",
        "\n",
        "mode=df['IsActiveMember'].mode()[0]\n",
        "df['IsActiveMember'].fillna(mode, inplace=True)\n",
        "\n",
        "mean=round(df['Age'].mean())\n",
        "df['Age'].fillna(mean, inplace=True)"
      ]
    },
    {
      "cell_type": "code",
      "execution_count": null,
      "id": "e5ef36d8",
      "metadata": {
        "id": "e5ef36d8",
        "outputId": "229813d5-8a6a-43b6-920e-45357cc19301"
      },
      "outputs": [
        {
          "data": {
            "text/plain": [
              "CustomerId         0\n",
              "Surname            0\n",
              "CreditScore        0\n",
              "Geography          0\n",
              "Gender             0\n",
              "Age                0\n",
              "Tenure             0\n",
              "Balance            0\n",
              "NumOfProducts      0\n",
              "HasCrCard          0\n",
              "IsActiveMember     0\n",
              "EstimatedSalary    0\n",
              "Exited             0\n",
              "dtype: int64"
            ]
          },
          "execution_count": 15,
          "metadata": {},
          "output_type": "execute_result"
        }
      ],
      "source": [
        "#checking missing values after data cleansing\n",
        "df.isnull().sum()"
      ]
    },
    {
      "cell_type": "code",
      "execution_count": null,
      "id": "5d1be018",
      "metadata": {
        "id": "5d1be018",
        "outputId": "5061e309-505d-4613-98e5-31436560f803"
      },
      "outputs": [
        {
          "data": {
            "text/plain": [
              "array([42, 41, 39, 43, 44, 50, 29, 31, 24, 34, 25, 35, 45, 58, 32, 38, 46,\n",
              "       36, 33, 40, 51, 61, 49, 27, 37, 19, 66, 56, 26, 21, 55, 75, 22, 30,\n",
              "       28, 65, 48, 52, 57, 73, 47, 54, 72, 20, 67, 79, 62, 53, 80, 59, 68,\n",
              "       23, 60, 70, 63, 64, 18, 82, 69, 74, 71, 76, 77, 88, 85, 84, 78, 81,\n",
              "       92, 83])"
            ]
          },
          "execution_count": 16,
          "metadata": {},
          "output_type": "execute_result"
        }
      ],
      "source": [
        "# rounding age to nearest integers\n",
        "df['Age'] = df['Age'].round().astype(int)\n",
        "df['Age'].unique()"
      ]
    },
    {
      "cell_type": "markdown",
      "id": "5798508f",
      "metadata": {
        "id": "5798508f"
      },
      "source": [
        "For the first challenge, Duplicate records has been removed from the data. Second, the missing values have been treated using mean and mode imputation techniques. Given the categorical and numerical data, using the simple methods of Mode imputation and Mean imputation missing values has been replaced. Finally, all the float age values are rounded to the nearest integers."
      ]
    },
    {
      "cell_type": "markdown",
      "id": "f988d42c",
      "metadata": {
        "id": "f988d42c"
      },
      "source": [
        "##### 1.4 Exploratory Data Analysis (EDA)"
      ]
    },
    {
      "cell_type": "markdown",
      "id": "c26286fb",
      "metadata": {
        "id": "c26286fb"
      },
      "source": [
        "The main aim of this stage is to understand the data patterns and unearth the reasons behind customers churning from the bank. It uses univariant and bivariant analytical techniques. It is important to note that all these deriven insights are for given bank churning data and the insights may vary for another set of different data."
      ]
    },
    {
      "cell_type": "markdown",
      "id": "f9f13b76",
      "metadata": {
        "id": "f9f13b76"
      },
      "source": [
        "###### 1.4.1 Univariant Analysis"
      ]
    },
    {
      "cell_type": "markdown",
      "id": "0640a540",
      "metadata": {
        "id": "0640a540"
      },
      "source": [
        "During univariant analysis, each variable in the dataset has been analysed individually to understand its properties."
      ]
    },
    {
      "cell_type": "code",
      "execution_count": null,
      "id": "27eb99f1",
      "metadata": {
        "id": "27eb99f1",
        "outputId": "cf1575f3-d8a8-457a-9c1c-b6f8233fd22c"
      },
      "outputs": [
        {
          "data": {
            "image/png": "[encoded data removed]",
            "text/plain": [
              "<Figure size 640x480 with 1 Axes>"
            ]
          },
          "metadata": {},
          "output_type": "display_data"
        },
        {
          "data": {
            "text/plain": [
              "Exited\n",
              "0    7963\n",
              "1    2037\n",
              "Name: count, dtype: int64"
            ]
          },
          "execution_count": 38,
          "metadata": {},
          "output_type": "execute_result"
        }
      ],
      "source": [
        "# Data distributions\n",
        "#exploring target variable\n",
        "sns.countplot(x='Exited', data=df)\n",
        "plt.xlabel('Exited')\n",
        "plt.ylabel('Count')\n",
        "plt.title('Count Plot of Exited Members')\n",
        "plt.show()\n",
        "\n",
        "df['Exited'].value_counts()"
      ]
    },
    {
      "cell_type": "code",
      "execution_count": null,
      "id": "07576a97",
      "metadata": {
        "id": "07576a97",
        "outputId": "2ae8f466-231e-45f1-9294-b8171859fe99"
      },
      "outputs": [
        {
          "name": "stdout",
          "output_type": "stream",
          "text": [
            "(10000, 6)\n"
          ]
        },
        {
          "data": {
            "text/html": [
              "<div>\n",
              "<style scoped>\n",
              "    .dataframe tbody tr th:only-of-type {\n",
              "        vertical-align: middle;\n",
              "    }\n",
              "\n",
              "    .dataframe tbody tr th {\n",
              "        vertical-align: top;\n",
              "    }\n",
              "\n",
              "    .dataframe thead th {\n",
              "        text-align: right;\n",
              "    }\n",
              "</style>\n",
              "<table border=\"1\" class=\"dataframe\">\n",
              "  <thead>\n",
              "    <tr style=\"text-align: right;\">\n",
              "      <th></th>\n",
              "      <th>Geography</th>\n",
              "      <th>Gender</th>\n",
              "      <th>NumOfProducts</th>\n",
              "      <th>HasCrCard</th>\n",
              "      <th>IsActiveMember</th>\n",
              "      <th>Exited</th>\n",
              "    </tr>\n",
              "  </thead>\n",
              "  <tbody>\n",
              "    <tr>\n",
              "      <th>0</th>\n",
              "      <td>France</td>\n",
              "      <td>Female</td>\n",
              "      <td>1</td>\n",
              "      <td>1.0</td>\n",
              "      <td>1.0</td>\n",
              "      <td>1</td>\n",
              "    </tr>\n",
              "    <tr>\n",
              "      <th>1</th>\n",
              "      <td>Spain</td>\n",
              "      <td>Female</td>\n",
              "      <td>1</td>\n",
              "      <td>0.0</td>\n",
              "      <td>1.0</td>\n",
              "      <td>0</td>\n",
              "    </tr>\n",
              "    <tr>\n",
              "      <th>2</th>\n",
              "      <td>France</td>\n",
              "      <td>Female</td>\n",
              "      <td>3</td>\n",
              "      <td>1.0</td>\n",
              "      <td>0.0</td>\n",
              "      <td>1</td>\n",
              "    </tr>\n",
              "    <tr>\n",
              "      <th>3</th>\n",
              "      <td>France</td>\n",
              "      <td>Female</td>\n",
              "      <td>2</td>\n",
              "      <td>0.0</td>\n",
              "      <td>0.0</td>\n",
              "      <td>0</td>\n",
              "    </tr>\n",
              "    <tr>\n",
              "      <th>4</th>\n",
              "      <td>Spain</td>\n",
              "      <td>Female</td>\n",
              "      <td>1</td>\n",
              "      <td>1.0</td>\n",
              "      <td>1.0</td>\n",
              "      <td>0</td>\n",
              "    </tr>\n",
              "  </tbody>\n",
              "</table>\n",
              "</div>"
            ],
            "text/plain": [
              "  Geography  Gender  NumOfProducts  HasCrCard  IsActiveMember  Exited\n",
              "0    France  Female              1        1.0             1.0       1\n",
              "1     Spain  Female              1        0.0             1.0       0\n",
              "2    France  Female              3        1.0             0.0       1\n",
              "3    France  Female              2        0.0             0.0       0\n",
              "4     Spain  Female              1        1.0             1.0       0"
            ]
          },
          "execution_count": 18,
          "metadata": {},
          "output_type": "execute_result"
        }
      ],
      "source": [
        "# filtering categorical data\n",
        "df_categorical=df[['Geography','Gender','NumOfProducts','HasCrCard','IsActiveMember','Exited']]\n",
        "print(df_categorical.shape)\n",
        "df_categorical.head()"
      ]
    },
    {
      "cell_type": "code",
      "execution_count": null,
      "id": "1fb090c4",
      "metadata": {
        "id": "1fb090c4",
        "outputId": "cc99d2c5-4641-4fe7-80dd-64871421c8ad"
      },
      "outputs": [
        {
          "data": {
            "image/png": "[encoded data removed]",
            "text/plain": [
              "<Figure size 1500x1000 with 6 Axes>"
            ]
          },
          "metadata": {},
          "output_type": "display_data"
        }
      ],
      "source": [
        "# Distributions of categorical features\n",
        "fig, axes = plt.subplots(nrows=2, ncols=3, figsize=(15, 10))\n",
        "axes = axes.flatten()\n",
        "for i, col in enumerate(df_categorical.columns):\n",
        "    sns.countplot(x=col, data=df_categorical, ax=axes[i])\n",
        "    axes[i].set_title(f'Countplot of {col}')\n",
        "\n",
        "plt.tight_layout()\n",
        "plt.show()"
      ]
    },
    {
      "cell_type": "code",
      "execution_count": null,
      "id": "2fd94dbd",
      "metadata": {
        "id": "2fd94dbd",
        "outputId": "d4cc9903-7c6f-4258-f07b-493a2c9c79eb"
      },
      "outputs": [
        {
          "name": "stdout",
          "output_type": "stream",
          "text": [
            "(10000, 5)\n"
          ]
        },
        {
          "data": {
            "text/html": [
              "<div>\n",
              "<style scoped>\n",
              "    .dataframe tbody tr th:only-of-type {\n",
              "        vertical-align: middle;\n",
              "    }\n",
              "\n",
              "    .dataframe tbody tr th {\n",
              "        vertical-align: top;\n",
              "    }\n",
              "\n",
              "    .dataframe thead th {\n",
              "        text-align: right;\n",
              "    }\n",
              "</style>\n",
              "<table border=\"1\" class=\"dataframe\">\n",
              "  <thead>\n",
              "    <tr style=\"text-align: right;\">\n",
              "      <th></th>\n",
              "      <th>CreditScore</th>\n",
              "      <th>Age</th>\n",
              "      <th>Tenure</th>\n",
              "      <th>Balance</th>\n",
              "      <th>EstimatedSalary</th>\n",
              "    </tr>\n",
              "  </thead>\n",
              "  <tbody>\n",
              "    <tr>\n",
              "      <th>0</th>\n",
              "      <td>619</td>\n",
              "      <td>42</td>\n",
              "      <td>2</td>\n",
              "      <td>0.00</td>\n",
              "      <td>101348.88</td>\n",
              "    </tr>\n",
              "    <tr>\n",
              "      <th>1</th>\n",
              "      <td>608</td>\n",
              "      <td>41</td>\n",
              "      <td>1</td>\n",
              "      <td>83807.86</td>\n",
              "      <td>112542.58</td>\n",
              "    </tr>\n",
              "    <tr>\n",
              "      <th>2</th>\n",
              "      <td>502</td>\n",
              "      <td>42</td>\n",
              "      <td>8</td>\n",
              "      <td>159660.80</td>\n",
              "      <td>113931.57</td>\n",
              "    </tr>\n",
              "    <tr>\n",
              "      <th>3</th>\n",
              "      <td>699</td>\n",
              "      <td>39</td>\n",
              "      <td>1</td>\n",
              "      <td>0.00</td>\n",
              "      <td>93826.63</td>\n",
              "    </tr>\n",
              "    <tr>\n",
              "      <th>4</th>\n",
              "      <td>850</td>\n",
              "      <td>43</td>\n",
              "      <td>2</td>\n",
              "      <td>125510.82</td>\n",
              "      <td>79084.10</td>\n",
              "    </tr>\n",
              "  </tbody>\n",
              "</table>\n",
              "</div>"
            ],
            "text/plain": [
              "   CreditScore  Age  Tenure    Balance  EstimatedSalary\n",
              "0          619   42       2       0.00        101348.88\n",
              "1          608   41       1   83807.86        112542.58\n",
              "2          502   42       8  159660.80        113931.57\n",
              "3          699   39       1       0.00         93826.63\n",
              "4          850   43       2  125510.82         79084.10"
            ]
          },
          "execution_count": 20,
          "metadata": {},
          "output_type": "execute_result"
        }
      ],
      "source": [
        "# filtering numerical features\n",
        "df_numerical=df[['CreditScore','Age','Tenure','Balance','EstimatedSalary']]\n",
        "print(df_numerical.shape)\n",
        "df_numerical.head()"
      ]
    },
    {
      "cell_type": "code",
      "execution_count": null,
      "id": "7dca2cf7",
      "metadata": {
        "id": "7dca2cf7",
        "outputId": "b3821041-3b66-4d61-f8fc-65f96b139d3e"
      },
      "outputs": [
        {
          "data": {
            "image/png": "[encoded data removed]",
            "text/plain": [
              "<Figure size 1500x1000 with 5 Axes>"
            ]
          },
          "metadata": {},
          "output_type": "display_data"
        }
      ],
      "source": [
        "# Distributions of numerical features\n",
        "fig, axes = plt.subplots(nrows=2, ncols=3, figsize=(15, 10))\n",
        "axes = axes.flatten()\n",
        "for i, col in enumerate(df_numerical.columns):\n",
        "    sns.distplot(df_numerical[col], ax=axes[i])\n",
        "    axes[i].set_title(f'Distplot of {col}')\n",
        "\n",
        "for j in range(i + 1, len(axes)):\n",
        "    fig.delaxes(axes[j])\n",
        "\n",
        "plt.tight_layout()\n",
        "plt.show()"
      ]
    },
    {
      "cell_type": "code",
      "execution_count": null,
      "id": "fccd3316",
      "metadata": {
        "id": "fccd3316",
        "outputId": "75688343-3fed-40bb-96b4-484d718ce3c4"
      },
      "outputs": [
        {
          "data": {
            "text/plain": [
              "Balance\n",
              "0.00         3617\n",
              "130170.82       2\n",
              "105473.74       2\n",
              "85304.27        1\n",
              "159397.75       1\n",
              "             ... \n",
              "81556.89        1\n",
              "112687.69       1\n",
              "108698.96       1\n",
              "238387.56       1\n",
              "130142.79       1\n",
              "Name: count, Length: 6382, dtype: int64"
            ]
          },
          "execution_count": 22,
          "metadata": {},
          "output_type": "execute_result"
        }
      ],
      "source": [
        "#Balance variable distribution\n",
        "df['Balance'].value_counts()"
      ]
    },
    {
      "cell_type": "markdown",
      "id": "8ecd3e73",
      "metadata": {
        "id": "8ecd3e73"
      },
      "source": [
        "#### Observations in univariant analysis\n",
        "1. On observation of the Geography feature, the bank has the majority of customers from France and fewer from Spain\n",
        "2. Based on Gender feature distribution, it is evident that most of the bank customers are Male\n",
        "3. The number of products analysis plot states that most customers use 1 or 2 products\n",
        "4. Credit card usage among customers is high\n",
        "5. Observing the active member plot, it says that distribution between active states and non-active states are almost equal\n",
        "6. The credit score variable seems normally distributed and Age of the customers are skewed to the right\n",
        "7. Tenure and salary distribution are fairly evenly distributed,\n",
        "8. finally balance variable seems bimodal distribution, significant number of the customers having a zero balance. Among non-zero balance customers, the distribution appears to be normal"
      ]
    },
    {
      "cell_type": "markdown",
      "id": "e7f970f5",
      "metadata": {
        "id": "e7f970f5"
      },
      "source": [
        "###### 1.4.2 Bivariant Analysis"
      ]
    },
    {
      "cell_type": "markdown",
      "id": "8214d6e1",
      "metadata": {
        "id": "8214d6e1"
      },
      "source": [
        "During Bivariant analysis, two variables in the dataset have been analyzed at a time to understand potential associations."
      ]
    },
    {
      "cell_type": "code",
      "execution_count": null,
      "id": "ab5e3821",
      "metadata": {
        "id": "ab5e3821",
        "outputId": "c58f5284-7a41-423c-b9b4-fccce5722f20"
      },
      "outputs": [
        {
          "data": {
            "image/png": "[encoded data removed]",
            "text/plain": [
              "<Figure size 1500x1000 with 5 Axes>"
            ]
          },
          "metadata": {},
          "output_type": "display_data"
        }
      ],
      "source": [
        "# Bivariant analysis- each categorical feature with target variable\n",
        "fig, axes = plt.subplots(nrows=2, ncols=3, figsize=(15, 10))\n",
        "axes = axes.flatten()\n",
        "\n",
        "for i, col in enumerate(df_categorical.columns[:-1]):\n",
        "    sns.countplot(x=col, hue='Exited', data=df_categorical, ax=axes[i])\n",
        "    axes[i].set_title(f'{col} vs. Exited')\n",
        "\n",
        "for j in range(i + 1, len(axes)):\n",
        "    fig.delaxes(axes[j])\n",
        "\n",
        "plt.tight_layout()\n",
        "plt.show()"
      ]
    },
    {
      "cell_type": "code",
      "execution_count": null,
      "id": "85df5759",
      "metadata": {
        "id": "85df5759",
        "outputId": "62b7d1ec-215d-454f-bfca-be30d0c02d49"
      },
      "outputs": [
        {
          "data": {
            "text/html": [
              "<div>\n",
              "<style scoped>\n",
              "    .dataframe tbody tr th:only-of-type {\n",
              "        vertical-align: middle;\n",
              "    }\n",
              "\n",
              "    .dataframe tbody tr th {\n",
              "        vertical-align: top;\n",
              "    }\n",
              "\n",
              "    .dataframe thead th {\n",
              "        text-align: right;\n",
              "    }\n",
              "</style>\n",
              "<table border=\"1\" class=\"dataframe\">\n",
              "  <thead>\n",
              "    <tr style=\"text-align: right;\">\n",
              "      <th></th>\n",
              "      <th>CreditScore</th>\n",
              "      <th>Age</th>\n",
              "      <th>Tenure</th>\n",
              "      <th>Balance</th>\n",
              "      <th>EstimatedSalary</th>\n",
              "    </tr>\n",
              "  </thead>\n",
              "  <tbody>\n",
              "    <tr>\n",
              "      <th>CreditScore</th>\n",
              "      <td>1.000000</td>\n",
              "      <td>-0.003926</td>\n",
              "      <td>0.000842</td>\n",
              "      <td>0.006268</td>\n",
              "      <td>-0.001384</td>\n",
              "    </tr>\n",
              "    <tr>\n",
              "      <th>Age</th>\n",
              "      <td>-0.003926</td>\n",
              "      <td>1.000000</td>\n",
              "      <td>-0.010117</td>\n",
              "      <td>0.028417</td>\n",
              "      <td>-0.007258</td>\n",
              "    </tr>\n",
              "    <tr>\n",
              "      <th>Tenure</th>\n",
              "      <td>0.000842</td>\n",
              "      <td>-0.010117</td>\n",
              "      <td>1.000000</td>\n",
              "      <td>-0.012254</td>\n",
              "      <td>0.007784</td>\n",
              "    </tr>\n",
              "    <tr>\n",
              "      <th>Balance</th>\n",
              "      <td>0.006268</td>\n",
              "      <td>0.028417</td>\n",
              "      <td>-0.012254</td>\n",
              "      <td>1.000000</td>\n",
              "      <td>0.012797</td>\n",
              "    </tr>\n",
              "    <tr>\n",
              "      <th>EstimatedSalary</th>\n",
              "      <td>-0.001384</td>\n",
              "      <td>-0.007258</td>\n",
              "      <td>0.007784</td>\n",
              "      <td>0.012797</td>\n",
              "      <td>1.000000</td>\n",
              "    </tr>\n",
              "  </tbody>\n",
              "</table>\n",
              "</div>"
            ],
            "text/plain": [
              "                 CreditScore       Age    Tenure   Balance  EstimatedSalary\n",
              "CreditScore         1.000000 -0.003926  0.000842  0.006268        -0.001384\n",
              "Age                -0.003926  1.000000 -0.010117  0.028417        -0.007258\n",
              "Tenure              0.000842 -0.010117  1.000000 -0.012254         0.007784\n",
              "Balance             0.006268  0.028417 -0.012254  1.000000         0.012797\n",
              "EstimatedSalary    -0.001384 -0.007258  0.007784  0.012797         1.000000"
            ]
          },
          "execution_count": 24,
          "metadata": {},
          "output_type": "execute_result"
        }
      ],
      "source": [
        "#Correlation matrix on numerical feartures\n",
        "correlation_matrix = df_numerical.corr()\n",
        "correlation_matrix"
      ]
    },
    {
      "cell_type": "markdown",
      "id": "9770be17",
      "metadata": {
        "id": "9770be17"
      },
      "source": [
        "#### Observations in Bivariant Analysis\n",
        "1. Although the bank has the majority of customers from France, the churn rate from France is low. According to bivariant geography and exited variant analysis, German customers are exited in higher proportion compared to Spain and france customers\n",
        "2. Analysis of gender and exited variables infers that female customers are exited more than male customers\n",
        "3. According to the data, the customers who are using one product are exiting more from the bank. Customers with 2 products almost stayed\n",
        "4. A large number of customers who are holding credit has exited the bank\n",
        "5. Finally, more number of customers who are not active members are exited"
      ]
    },
    {
      "cell_type": "markdown",
      "id": "948717c5",
      "metadata": {
        "id": "948717c5"
      },
      "source": [
        "## 2. Methods"
      ]
    },
    {
      "cell_type": "markdown",
      "id": "dff4dc9a",
      "metadata": {
        "id": "dff4dc9a"
      },
      "source": [
        "The main aim of the methods section is to describe the problem, describe the type and choice of machine learning algorithms, and finally evaluation metrics that are going to be used for developing the prediction model that identifies at-risk bank customers who are likely to exit the bank. This section also explains the modeling stage of the project.\n",
        "\n",
        "From the data exploration stage, it is evident that the target variable contains binary values and the objective is to predict customer churn.Bbased on these factors, the project classified the objective as an supervised binary classification problem and a wide range of supervised machine learning models such as Logistic Regression, Decision Tree, Random Forest, Support Vector Classifier, KNN Classifier, and XGBoost Classifier has been choosen. The project aimed to train the churn data on this wide range of techniques, then perform a comparative study, and finally select the best-performing model based on the evaluation metrics. Given it is a binary classifier and with intention to balance the target values, this project chose classification report metrics such as Accuracy, precision, recall, and F-score as evaluation metrics.\n",
        "\n",
        "The modeling stage is the crucial stage in the entire project as it comprises training and evaluation of the chosen machine learning models. Before proceeding to model training, the project performed three tasks. First, as the target variable 'exited' is highly unbalanced, this project upsampled the minority classes to balance the class distribution. Second, the entire data has been split into train and test datasets and finally, each category feature in the both train and test datasets has been converted to numerical value using ordinal encoding techniques."
      ]
    },
    {
      "cell_type": "markdown",
      "id": "fc73f78e",
      "metadata": {
        "id": "fc73f78e"
      },
      "source": [
        "##### 2.1 Upsampling"
      ]
    },
    {
      "cell_type": "code",
      "execution_count": null,
      "id": "56934047",
      "metadata": {
        "id": "56934047",
        "outputId": "0194a093-fe73-4d6c-a39e-c64417892b95"
      },
      "outputs": [
        {
          "name": "stdout",
          "output_type": "stream",
          "text": [
            "(15926, 13)\n"
          ]
        },
        {
          "data": {
            "text/plain": [
              "Exited\n",
              "1    7963\n",
              "0    7963\n",
              "Name: count, dtype: int64"
            ]
          },
          "execution_count": 37,
          "metadata": {},
          "output_type": "execute_result"
        }
      ],
      "source": [
        "# performing upsampling to balance minority classes\n",
        "churned = df[df['Exited']==1]\n",
        "not_churned = df[df['Exited'] == 0]\n",
        "upsampled_churned = resample(churned, replace=True, n_samples=len(not_churned),random_state=42)\n",
        "df_upsampled = pd.concat([upsampled_churned,not_churned])\n",
        "\n",
        "print(df_upsampled.shape)\n",
        "df_upsampled['Exited'].value_counts()"
      ]
    },
    {
      "cell_type": "markdown",
      "id": "358e6d89",
      "metadata": {
        "id": "358e6d89"
      },
      "source": [
        "##### 2.2 Training and Testing Datasets"
      ]
    },
    {
      "cell_type": "code",
      "execution_count": null,
      "id": "66003c81",
      "metadata": {
        "id": "66003c81",
        "outputId": "e5287d8d-c1aa-4fc2-acfb-68321c15819d"
      },
      "outputs": [
        {
          "name": "stdout",
          "output_type": "stream",
          "text": [
            "(15926, 11)\n",
            "(12740, 10)\n",
            "(3186, 10)\n"
          ]
        }
      ],
      "source": [
        "# Dropping CustomerId and Surname as they dont contribute to prediction\n",
        "df_upsampled.drop(columns=['CustomerId','Surname'], inplace=True)\n",
        "\n",
        "#seperating dependent and independent features\n",
        "X = df_upsampled.drop(columns=['Exited'])\n",
        "y = df_upsampled['Exited']\n",
        "\n",
        "#Splitting train and test datasets\n",
        "X_train, X_test, y_train, y_test = train_test_split(X, y, test_size=0.2, random_state=42)\n",
        "\n",
        "print(df_upsampled.shape)\n",
        "print(X_train.shape)\n",
        "print(X_test.shape)"
      ]
    },
    {
      "cell_type": "markdown",
      "id": "da0ce814",
      "metadata": {
        "id": "da0ce814"
      },
      "source": [
        "##### 2.3  Encoding"
      ]
    },
    {
      "cell_type": "code",
      "execution_count": null,
      "id": "59bb905c",
      "metadata": {
        "id": "59bb905c",
        "outputId": "4586ed5b-56c1-424b-ae2d-663ebb1f8bdf"
      },
      "outputs": [
        {
          "data": {
            "text/html": [
              "<div>\n",
              "<style scoped>\n",
              "    .dataframe tbody tr th:only-of-type {\n",
              "        vertical-align: middle;\n",
              "    }\n",
              "\n",
              "    .dataframe tbody tr th {\n",
              "        vertical-align: top;\n",
              "    }\n",
              "\n",
              "    .dataframe thead th {\n",
              "        text-align: right;\n",
              "    }\n",
              "</style>\n",
              "<table border=\"1\" class=\"dataframe\">\n",
              "  <thead>\n",
              "    <tr style=\"text-align: right;\">\n",
              "      <th></th>\n",
              "      <th>CreditScore</th>\n",
              "      <th>Geography</th>\n",
              "      <th>Gender</th>\n",
              "      <th>Age</th>\n",
              "      <th>Tenure</th>\n",
              "      <th>Balance</th>\n",
              "      <th>NumOfProducts</th>\n",
              "      <th>HasCrCard</th>\n",
              "      <th>IsActiveMember</th>\n",
              "      <th>EstimatedSalary</th>\n",
              "    </tr>\n",
              "  </thead>\n",
              "  <tbody>\n",
              "    <tr>\n",
              "      <th>7045</th>\n",
              "      <td>850</td>\n",
              "      <td>1</td>\n",
              "      <td>1</td>\n",
              "      <td>36</td>\n",
              "      <td>6</td>\n",
              "      <td>0.00</td>\n",
              "      <td>1</td>\n",
              "      <td>1</td>\n",
              "      <td>1</td>\n",
              "      <td>190194.95</td>\n",
              "    </tr>\n",
              "    <tr>\n",
              "      <th>7397</th>\n",
              "      <td>572</td>\n",
              "      <td>2</td>\n",
              "      <td>2</td>\n",
              "      <td>47</td>\n",
              "      <td>4</td>\n",
              "      <td>99353.42</td>\n",
              "      <td>2</td>\n",
              "      <td>1</td>\n",
              "      <td>2</td>\n",
              "      <td>196549.85</td>\n",
              "    </tr>\n",
              "    <tr>\n",
              "      <th>8719</th>\n",
              "      <td>691</td>\n",
              "      <td>1</td>\n",
              "      <td>1</td>\n",
              "      <td>44</td>\n",
              "      <td>6</td>\n",
              "      <td>134066.10</td>\n",
              "      <td>1</td>\n",
              "      <td>1</td>\n",
              "      <td>1</td>\n",
              "      <td>197572.41</td>\n",
              "    </tr>\n",
              "    <tr>\n",
              "      <th>2973</th>\n",
              "      <td>591</td>\n",
              "      <td>1</td>\n",
              "      <td>1</td>\n",
              "      <td>56</td>\n",
              "      <td>9</td>\n",
              "      <td>128882.49</td>\n",
              "      <td>2</td>\n",
              "      <td>1</td>\n",
              "      <td>1</td>\n",
              "      <td>196241.94</td>\n",
              "    </tr>\n",
              "    <tr>\n",
              "      <th>9750</th>\n",
              "      <td>708</td>\n",
              "      <td>1</td>\n",
              "      <td>1</td>\n",
              "      <td>51</td>\n",
              "      <td>8</td>\n",
              "      <td>70754.18</td>\n",
              "      <td>2</td>\n",
              "      <td>1</td>\n",
              "      <td>1</td>\n",
              "      <td>92920.04</td>\n",
              "    </tr>\n",
              "  </tbody>\n",
              "</table>\n",
              "</div>"
            ],
            "text/plain": [
              "      CreditScore  Geography  Gender  Age  Tenure    Balance  NumOfProducts  \\\n",
              "7045          850          1       1   36       6       0.00              1   \n",
              "7397          572          2       2   47       4   99353.42              2   \n",
              "8719          691          1       1   44       6  134066.10              1   \n",
              "2973          591          1       1   56       9  128882.49              2   \n",
              "9750          708          1       1   51       8   70754.18              2   \n",
              "\n",
              "      HasCrCard  IsActiveMember  EstimatedSalary  \n",
              "7045          1               1        190194.95  \n",
              "7397          1               2        196549.85  \n",
              "8719          1               1        197572.41  \n",
              "2973          1               1        196241.94  \n",
              "9750          1               1         92920.04  "
            ]
          },
          "execution_count": 27,
          "metadata": {},
          "output_type": "execute_result"
        }
      ],
      "source": [
        "# converting each categorical value to an integers using ordinal encoding\n",
        "encoder = ce.OrdinalEncoder(cols=['Geography','Gender','NumOfProducts','HasCrCard','IsActiveMember'])\n",
        "X_train = encoder.fit_transform(X_train)\n",
        "X_test = encoder.transform(X_test)\n",
        "\n",
        "# data after encoding\n",
        "X_train.head()"
      ]
    },
    {
      "cell_type": "markdown",
      "id": "6687b640",
      "metadata": {
        "id": "6687b640"
      },
      "source": [
        "##### 2.4 Model training using Logistic Regression"
      ]
    },
    {
      "cell_type": "code",
      "execution_count": null,
      "id": "fc2d1d0b",
      "metadata": {
        "id": "fc2d1d0b",
        "outputId": "602232f2-13b8-4543-f8e2-914bf10f173f"
      },
      "outputs": [
        {
          "name": "stdout",
          "output_type": "stream",
          "text": [
            "Classification report of Logistic Regression:\n",
            "              precision    recall  f1-score   support\n",
            "\n",
            "           0       0.67      0.66      0.66      1581\n",
            "           1       0.67      0.68      0.67      1605\n",
            "\n",
            "    accuracy                           0.67      3186\n",
            "   macro avg       0.67      0.67      0.67      3186\n",
            "weighted avg       0.67      0.67      0.67      3186\n",
            "\n",
            "[[1044  537]\n",
            " [ 520 1085]]\n"
          ]
        }
      ],
      "source": [
        "#Logistic Regression training and evaluation\n",
        "logistic_regression_classifier = LogisticRegression(max_iter = 1000, random_state=0)\n",
        "logistic_regression_classifier.fit(X_train, y_train)\n",
        "y_pred = logistic_regression_classifier.predict(X_test)\n",
        "\n",
        "print(\"Classification report of Logistic Regression:\")\n",
        "print(classification_report(y_test, y_pred))\n",
        "print(confusion_matrix(y_test, y_pred))"
      ]
    },
    {
      "cell_type": "markdown",
      "id": "6f4c4510",
      "metadata": {
        "id": "6f4c4510"
      },
      "source": [
        "##### 2.5 Model training using Decision Tree"
      ]
    },
    {
      "cell_type": "code",
      "execution_count": null,
      "id": "ca7cb2d1",
      "metadata": {
        "id": "ca7cb2d1",
        "outputId": "a062b221-d8a7-4dea-935d-19a4e9f1b598"
      },
      "outputs": [
        {
          "name": "stdout",
          "output_type": "stream",
          "text": [
            "Classification report of Decision Tree:\n",
            "              precision    recall  f1-score   support\n",
            "\n",
            "           0       0.71      0.83      0.77      1581\n",
            "           1       0.80      0.67      0.73      1605\n",
            "\n",
            "    accuracy                           0.75      3186\n",
            "   macro avg       0.75      0.75      0.75      3186\n",
            "weighted avg       0.76      0.75      0.75      3186\n",
            "\n",
            "[[1307  274]\n",
            " [ 528 1077]]\n"
          ]
        }
      ],
      "source": [
        "#Decision Tree training and evaluation\n",
        "Decision_Tree_classifier = DecisionTreeClassifier(criterion='gini', max_depth=3, random_state=0)\n",
        "\n",
        "Decision_Tree_classifier.fit(X_train, y_train)\n",
        "y_pred = Decision_Tree_classifier.predict(X_test)\n",
        "\n",
        "\n",
        "print(\"Classification report of Decision Tree:\")\n",
        "print(classification_report(y_test, y_pred))\n",
        "print(confusion_matrix(y_test, y_pred))"
      ]
    },
    {
      "cell_type": "code",
      "execution_count": null,
      "id": "e5539340",
      "metadata": {
        "id": "e5539340",
        "outputId": "e871a691-661a-4fbd-d2c7-ef9d5f5b5b26"
      },
      "outputs": [
        {
          "name": "stdout",
          "output_type": "stream",
          "text": [
            "important Features inorder importance order:\n",
            "Age\n",
            "NumOfProducts\n",
            "Balance\n",
            "IsActiveMember\n",
            "CreditScore\n",
            "Geography\n",
            "Gender\n",
            "Tenure\n",
            "HasCrCard\n",
            "EstimatedSalary\n"
          ]
        }
      ],
      "source": [
        "# Feature importances\n",
        "feature_importances_dict = {}\n",
        "for i, name in enumerate(X_train): feature_importances_dict.update({name : Decision_Tree_classifier.feature_importances_[i]})\n",
        "\n",
        "feature_importances_sorted = dict(sorted(feature_importances_dict.items(), key=lambda x:x[1], reverse=True))\n",
        "\n",
        "print('important Features inorder importance order:')\n",
        "for key in feature_importances_sorted:\n",
        "    print(key)"
      ]
    },
    {
      "cell_type": "markdown",
      "id": "88ccc887",
      "metadata": {
        "id": "88ccc887"
      },
      "source": [
        "##### 2.6 Model training using Random Forest"
      ]
    },
    {
      "cell_type": "code",
      "execution_count": null,
      "id": "67272ee5",
      "metadata": {
        "id": "67272ee5",
        "outputId": "ee0967ca-feaa-45ce-e1ec-232c3005a8f0"
      },
      "outputs": [
        {
          "name": "stdout",
          "output_type": "stream",
          "text": [
            "Classification report of Random Forest model:\n",
            "              precision    recall  f1-score   support\n",
            "\n",
            "           0       0.98      0.93      0.95      1581\n",
            "           1       0.93      0.98      0.96      1605\n",
            "\n",
            "    accuracy                           0.95      3186\n",
            "   macro avg       0.96      0.95      0.95      3186\n",
            "weighted avg       0.95      0.95      0.95      3186\n",
            "\n",
            "[[1468  113]\n",
            " [  34 1571]]\n"
          ]
        }
      ],
      "source": [
        "# Random Forest training and evaluation\n",
        "RandomForest_classifier = RandomForestClassifier(n_estimators=100, random_state=0)\n",
        "RandomForest_classifier.fit(X_train, y_train)\n",
        "y_pred = RandomForest_classifier.predict(X_test)\n",
        "\n",
        "print(\"Classification report of Random Forest model:\")\n",
        "print(classification_report(y_test, y_pred))\n",
        "print(confusion_matrix(y_test, y_pred))"
      ]
    },
    {
      "cell_type": "markdown",
      "id": "32c02369",
      "metadata": {
        "id": "32c02369"
      },
      "source": [
        "##### 2.7 Model training using Support Vector Classifier"
      ]
    },
    {
      "cell_type": "code",
      "execution_count": null,
      "id": "22851601",
      "metadata": {
        "id": "22851601",
        "outputId": "d9f9bfba-a225-49af-ac01-49bea5ddd73b"
      },
      "outputs": [
        {
          "name": "stdout",
          "output_type": "stream",
          "text": [
            "Classification report of Support Vector Classifier:\n",
            "              precision    recall  f1-score   support\n",
            "\n",
            "           0       0.95      1.00      0.98      1581\n",
            "           1       1.00      0.95      0.97      1605\n",
            "\n",
            "    accuracy                           0.97      3186\n",
            "   macro avg       0.98      0.98      0.97      3186\n",
            "weighted avg       0.98      0.97      0.97      3186\n",
            "\n",
            "[[1581    0]\n",
            " [  80 1525]]\n"
          ]
        }
      ],
      "source": [
        "SV_classifier = SVC(kernel='rbf', random_state=0, gamma=.10, C=1.0)\n",
        "SV_classifier.fit(X_train, y_train)\n",
        "y_pred = SV_classifier.predict(X_test)\n",
        "\n",
        "print(\"Classification report of Support Vector Classifier:\")\n",
        "print(classification_report(y_test, y_pred))\n",
        "print(confusion_matrix(y_test, y_pred))"
      ]
    },
    {
      "cell_type": "markdown",
      "id": "126d8f5e",
      "metadata": {
        "id": "126d8f5e"
      },
      "source": [
        "##### 2.8 Model training using KNN"
      ]
    },
    {
      "cell_type": "code",
      "execution_count": null,
      "id": "37482c1a",
      "metadata": {
        "id": "37482c1a",
        "outputId": "4ed76015-e638-4db3-8959-21193d34c1d0"
      },
      "outputs": [
        {
          "name": "stdout",
          "output_type": "stream",
          "text": [
            "Classification report of KNN Classifier:\n",
            "              precision    recall  f1-score   support\n",
            "\n",
            "           0       0.75      0.58      0.66      1581\n",
            "           1       0.66      0.81      0.73      1605\n",
            "\n",
            "    accuracy                           0.70      3186\n",
            "   macro avg       0.71      0.70      0.69      3186\n",
            "weighted avg       0.71      0.70      0.70      3186\n",
            "\n",
            "[[ 924  657]\n",
            " [ 301 1304]]\n"
          ]
        }
      ],
      "source": [
        "#KNN training and evaluation\n",
        "KNN_Classifier = KNeighborsClassifier(n_neighbors=5)\n",
        "KNN_Classifier.fit(X_train, y_train)\n",
        "y_pred = KNN_Classifier.predict(X_test)\n",
        "\n",
        "print(\"Classification report of KNN Classifier:\")\n",
        "print(classification_report(y_test, y_pred))\n",
        "print(confusion_matrix(y_test, y_pred))"
      ]
    },
    {
      "cell_type": "markdown",
      "id": "c3452439",
      "metadata": {
        "id": "c3452439"
      },
      "source": [
        "##### 2.9 Model training using XGB"
      ]
    },
    {
      "cell_type": "code",
      "execution_count": null,
      "id": "ee3a5d05",
      "metadata": {
        "scrolled": true,
        "id": "ee3a5d05",
        "outputId": "7ee56343-bc8b-4403-e6c5-2336d253877c"
      },
      "outputs": [
        {
          "name": "stdout",
          "output_type": "stream",
          "text": [
            "Classification report of XGBoost Classifier:\n",
            "              precision    recall  f1-score   support\n",
            "\n",
            "           0       0.95      0.88      0.91      1581\n",
            "           1       0.89      0.95      0.92      1605\n",
            "\n",
            "    accuracy                           0.92      3186\n",
            "   macro avg       0.92      0.92      0.92      3186\n",
            "weighted avg       0.92      0.92      0.92      3186\n",
            "\n",
            "[[1394  187]\n",
            " [  81 1524]]\n"
          ]
        }
      ],
      "source": [
        "# XGB training and evaluation\n",
        "label_encoder = LabelEncoder()\n",
        "y_train_encoded = label_encoder.fit_transform(y_train)\n",
        "y_test_encoded = label_encoder.transform(y_test)\n",
        "\n",
        "xgb_Classifier = xgb.XGBClassifier()\n",
        "xgb_Classifier = xgb_Classifier.fit(X_train, y_train_encoded)\n",
        "\n",
        "y_pred = xgb_Classifier.predict(X_test)\n",
        "\n",
        "print(\"Classification report of XGBoost Classifier:\")\n",
        "print(classification_report(y_test_encoded, y_pred))\n",
        "print(confusion_matrix(y_test_encoded, y_pred))"
      ]
    },
    {
      "cell_type": "markdown",
      "id": "aa97757f",
      "metadata": {
        "id": "aa97757f"
      },
      "source": [
        "Each Machine learning model has been trained using train data and performance ahs been evaluated using test data. The evaluation metrics of Accuracy, precision, recall, and F-score has been tabulated in results section to perform comparative study."
      ]
    },
    {
      "cell_type": "markdown",
      "id": "88b9194c",
      "metadata": {
        "id": "88b9194c"
      },
      "source": [
        "## 3. Results"
      ]
    },
    {
      "cell_type": "markdown",
      "id": "0dec5625",
      "metadata": {
        "id": "0dec5625"
      },
      "source": [
        "The main aim of this results section is to perform a comparitive study on the evaluation metrics of each trained machine learning model and to choose the high performed model. This section also interprets the results of top performed model."
      ]
    },
    {
      "cell_type": "markdown",
      "id": "4b7624ca",
      "metadata": {
        "id": "4b7624ca"
      },
      "source": [
        "![image.png](attachment:image.png)"
      ]
    },
    {
      "cell_type": "markdown",
      "id": "54b33f16",
      "metadata": {
        "id": "54b33f16"
      },
      "source": [
        "From the above table, it is evident that the Support Vector classifier and Random Forest models performed well on given customer churn data by achieving the highest accuracy of 0.97 and 0.95. The F-scores of the Random Forest and Support Vector classifier are 0.97 and 0.96 for the Exited class and 0.95 and 0.98 for the Not Excited class. This implies Support Vector classifiers and Random Forest models can detect the given customer churn data patterns and can effectively predict the outcome of customer churn\n",
        "\n",
        "The accuracy of the Random Forest model Accuracy is 95% and by looking at the precision and recall, it can be inferred that of all the points where the model predicted as class 1, 93% are class 1, and of all the points that originally belong to class 1, 98% were classified as class 1."
      ]
    },
    {
      "cell_type": "markdown",
      "id": "35064095",
      "metadata": {
        "id": "35064095"
      },
      "source": [
        "## 4. Conclusion"
      ]
    },
    {
      "cell_type": "markdown",
      "id": "87b09d53",
      "metadata": {
        "id": "87b09d53"
      },
      "source": [
        "This project aims to predict customer churn in the banking industry using machine learning. By utilizing the datascience techniques such as Exploratory Data Analysis(EDA) and Machine learning, this project has explained the data patterns, powerful insights, and predicted customers who are likely to exit the bank with 97% accuracy.\n",
        "\n",
        "According to Exploratory Data Analysis(EDA), although the bank has the majority of customers from France, the churn rate from France is low. According to bivariant analysis, German customers are exited in higher proportion compared to Spain and France customers. The analysis also infers that female customers are excited more than male customers. Next, customers who are using only one product are exited more from the bank.Finally, a large number of customers who are holding credit has exited the bank\n",
        "\n",
        "According to the obtained results, by utilizing the potential of support vector classifier (or) Random forest models on the given bank churning data, banks can predict the customers who are likely to exit the bank with 95% to 97% accuracy. By knowing the at-risk customers, the bank can implement successful retention strategies to prevent churning."
      ]
    },
    {
      "cell_type": "markdown",
      "id": "915e737b",
      "metadata": {
        "id": "915e737b"
      },
      "source": [
        "## References"
      ]
    },
    {
      "cell_type": "markdown",
      "id": "36114c45",
      "metadata": {
        "id": "36114c45"
      },
      "source": [
        "1 . Nie, G., Rowe, W., Zhang, L., Tian, Y., & Shi, Y. (2011). Credit card churn forecasting by logistic regression and decision tree. Expert Systems with Applications, 38(12), 15273-15285\n",
        "\n",
        "2 .https://www.kaggle.com/datasets/shubhammeshram579/bank-customer-churn-prediction"
      ]
    }
  ],
  "metadata": {
    "kernelspec": {
      "display_name": "Python 3 (ipykernel)",
      "language": "python",
      "name": "python3"
    },
    "language_info": {
      "codemirror_mode": {
        "name": "ipython",
        "version": 3
      },
      "file_extension": ".py",
      "mimetype": "text/x-python",
      "name": "python",
      "nbconvert_exporter": "python",
      "pygments_lexer": "ipython3",
      "version": "3.11.5"
    },
    "colab": {
      "provenance": [],
      "include_colab_link": true
    }
  },
  "nbformat": 4,
  "nbformat_minor": 5
}